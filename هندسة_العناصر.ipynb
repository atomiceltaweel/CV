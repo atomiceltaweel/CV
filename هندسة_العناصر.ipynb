{
  "nbformat": 4,
  "nbformat_minor": 0,
  "metadata": {
    "colab": {
      "provenance": [],
      "authorship_tag": "ABX9TyPzOqcGUjndky7ImBSjw6Hn",
      "include_colab_link": true
    },
    "kernelspec": {
      "name": "python3",
      "display_name": "Python 3"
    },
    "language_info": {
      "name": "python"
    }
  },
  "cells": [
    {
      "cell_type": "markdown",
      "metadata": {
        "id": "view-in-github",
        "colab_type": "text"
      },
      "source": [
        "<a href=\"https://colab.research.google.com/github/atomiceltaweel/CV/blob/main/%D9%87%D9%86%D8%AF%D8%B3%D8%A9_%D8%A7%D9%84%D8%B9%D9%86%D8%A7%D8%B5%D8%B1.ipynb\" target=\"_parent\"><img src=\"https://colab.research.google.com/assets/colab-badge.svg\" alt=\"Open In Colab\"/></a>"
      ]
    },
    {
      "cell_type": "code",
      "execution_count": null,
      "metadata": {
        "id": "7-xjvJfO5lMB",
        "colab": {
          "base_uri": "https://localhost:8080/"
        },
        "outputId": "161dd7e7-d46d-4449-9386-54fdd4c3fd7e"
      },
      "outputs": [
        {
          "output_type": "stream",
          "name": "stdout",
          "text": [
            "25\n"
          ]
        }
      ],
      "source": [
        "def square (func):\n",
        "   def wrapper (a, b):\n",
        "      return func (a, b)* func(a, b)\n",
        "   return wrapper\n",
        "\n",
        "@square\n",
        "def add (a, b):\n",
        "   return a\n",
        "\n",
        "print(add (5, 3))"
      ]
    },
    {
      "cell_type": "code",
      "source": [
        "data=data.dropna()"
      ],
      "metadata": {
        "id": "Kkw2Dhud0-6P"
      },
      "execution_count": null,
      "outputs": []
    },
    {
      "cell_type": "code",
      "source": [],
      "metadata": {
        "id": "lDCsT2D-Eb8Q"
      },
      "execution_count": null,
      "outputs": []
    }
  ]
}