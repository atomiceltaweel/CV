{
  "cells": [
    {
      "cell_type": "markdown",
      "metadata": {
        "id": "view-in-github",
        "colab_type": "text"
      },
      "source": [
        "<a href=\"https://colab.research.google.com/github/atomiceltaweel/CV/blob/main/xgboost_customer_churn_bootcamp_student22.ipynb\" target=\"_parent\"><img src=\"https://colab.research.google.com/assets/colab-badge.svg\" alt=\"Open In Colab\"/></a>"
      ]
    },
    {
      "cell_type": "markdown",
      "metadata": {
        "id": "5Y2JyqU6H2p8"
      },
      "source": [
        "# Practical Data Science with Amazon SageMaker\n",
        "_**Using Amazon SageMaker to solve an end-to-end machine learning problem**_\n",
        "\n",
        "---\n",
        "\n",
        "Learn to use Amazon SageMaker for creating, tuning, and deploying a machine learning (ML) model for predicting customer churn of a moblile phone service provider.\n",
        "\n",
        "## Modules\n",
        "\n",
        "1. [Prepare a dataset for training](#Prepare-a-dataset-for-training)\n",
        "2. [Train and evaluate a model](#Train-and-evaluate-a-model)\n",
        "3. [Automatically tune the model](#Automatically-tune-the-model)\n",
        "4. [Make the model production ready](#Make-the-model-production-ready)\n",
        "5. [AWS Auto Scaling](#AWS-Auto-Scaling)\n",
        "6. [Relative cost of errors](#Relative-cost-of-errors)\n",
        "  \n",
        "---\n",
        "\n",
        "## Prepare a dataset for training\n",
        "\n",
        "### Churn prediction problem\n",
        "\n",
        "Losing customers is costly for any business.  Identifying unhappy customers early gives you a chance to offer them incentives to stay.  You will use ML to automate the identification of unhappy customers, also known as *customer churn prediction*. \n",
        "\n",
        "ML models rarely give perfect predictions, so you will learn how to adjust for prediction mistakes in your total ML costs.\n",
        "\n",
        "The example of churn that may be familiar to you; leaving a mobile phone service provider for a competitor.  If a provider is aware that a particular customer is considering leaving, it can offer timely incentives, perhaps in the form of a phone upgrade, to encourage the customer to continue service.  \n",
        "\n",
        "Incentives are often more cost-effective than losing and reacquiring a customer.\n",
        "\n",
        "### Dataset\n",
        "\n",
        "Mobile phone service providers keep historical records on customers who churn bit ultimately continue using the service. You can use this data to construct an ML model of one mobile phone provider's churn using a process called *training*. \n",
        "\n",
        "You'll train the model, can pass the profile information of an arbitrary customer to the model, and have the model predict whether this customer is going to churn. The model will make mistakes&mdash;predicting the future is tricky. However, you will learn how to manage prediction errors.\n",
        "\n",
        "The dataset used is publicly available and is mentioned in the book [*Discovering Knowledge in Data*](https://www.amazon.com/dp/0470908742/) by Daniel T. Larose. The author attributed the dataset to the University of California Irvine Repository of Machine Learning Datasets.\n",
        "\n",
        "As part of the lab setup, the relevant dataset, churn.txt has been downloaded and made available for this exercise."
      ]
    },
    {
      "cell_type": "code",
      "execution_count": null,
      "metadata": {
        "id": "SWRmZAHFH2qC",
        "outputId": "c60e2187-9e9b-4a8a-8b09-78e5cdd20322"
      },
      "outputs": [
        {
          "name": "stdout",
          "output_type": "stream",
          "text": [
            "\r\n",
            "\r\n",
            "\r\n",
            "\r\n",
            "\r\n",
            "\r\n",
            "\r\n",
            "\r\n",
            "\r\n",
            "\r\n"
          ]
        }
      ],
      "source": [
        "!head './churn.txt'"
      ]
    },
    {
      "cell_type": "markdown",
      "metadata": {
        "id": "Kowj6bA_H2qE"
      },
      "source": [
        "The above looks like a CSV file with a header row. \n",
        "\n",
        "You will use the pandas library for loading and displaying this raw dataset. \n",
        "\n",
        "The resulting `churn` variable is a pandas [DataFrame](https://pandas.pydata.org/pandas-docs/stable/generated/pandas.DataFrame.html)."
      ]
    },
    {
      "cell_type": "code",
      "execution_count": null,
      "metadata": {
        "id": "68mJ_SkHH2qF",
        "outputId": "72fc8f9a-67f8-4da0-e67e-1c8e3e9c85f6"
      },
      "outputs": [
        {
          "data": {
            "text/html": [
              "<div>\n",
              "<style scoped>\n",
              "    .dataframe tbody tr th:only-of-type {\n",
              "        vertical-align: middle;\n",
              "    }\n",
              "\n",
              "    .dataframe tbody tr th {\n",
              "        vertical-align: top;\n",
              "    }\n",
              "\n",
              "    .dataframe thead th {\n",
              "        text-align: right;\n",
              "    }\n",
              "</style>\n",
              "<table border=\"1\" class=\"dataframe\">\n",
              "  <thead>\n",
              "    <tr style=\"text-align: right;\">\n",
              "      <th></th>\n",
              "      <th>State</th>\n",
              "      <th>Account Length</th>\n",
              "      <th>Area Code</th>\n",
              "      <th>Phone</th>\n",
              "      <th>Int'l Plan</th>\n",
              "      <th>VMail Plan</th>\n",
              "      <th>VMail Message</th>\n",
              "      <th>Day Mins</th>\n",
              "      <th>Day Calls</th>\n",
              "      <th>Day Charge</th>\n",
              "      <th>...</th>\n",
              "      <th>Eve Calls</th>\n",
              "      <th>Eve Charge</th>\n",
              "      <th>Night Mins</th>\n",
              "      <th>Night Calls</th>\n",
              "      <th>Night Charge</th>\n",
              "      <th>Intl Mins</th>\n",
              "      <th>Intl Calls</th>\n",
              "      <th>Intl Charge</th>\n",
              "      <th>CustServ Calls</th>\n",
              "      <th>Churn?</th>\n",
              "    </tr>\n",
              "  </thead>\n",
              "  <tbody>\n",
              "    <tr>\n",
              "      <th>0</th>\n",
              "      <td>KS</td>\n",
              "      <td>128</td>\n",
              "      <td>415</td>\n",
              "      <td>382-4657</td>\n",
              "      <td>no</td>\n",
              "      <td>yes</td>\n",
              "      <td>25</td>\n",
              "      <td>265.1</td>\n",
              "      <td>110</td>\n",
              "      <td>45.07</td>\n",
              "      <td>...</td>\n",
              "      <td>99</td>\n",
              "      <td>16.78</td>\n",
              "      <td>244.7</td>\n",
              "      <td>91</td>\n",
              "      <td>11.01</td>\n",
              "      <td>10.0</td>\n",
              "      <td>3</td>\n",
              "      <td>2.70</td>\n",
              "      <td>1</td>\n",
              "      <td>False.</td>\n",
              "    </tr>\n",
              "    <tr>\n",
              "      <th>1</th>\n",
              "      <td>OH</td>\n",
              "      <td>107</td>\n",
              "      <td>415</td>\n",
              "      <td>371-7191</td>\n",
              "      <td>no</td>\n",
              "      <td>yes</td>\n",
              "      <td>26</td>\n",
              "      <td>161.6</td>\n",
              "      <td>123</td>\n",
              "      <td>27.47</td>\n",
              "      <td>...</td>\n",
              "      <td>103</td>\n",
              "      <td>16.62</td>\n",
              "      <td>254.4</td>\n",
              "      <td>103</td>\n",
              "      <td>11.45</td>\n",
              "      <td>13.7</td>\n",
              "      <td>3</td>\n",
              "      <td>3.70</td>\n",
              "      <td>1</td>\n",
              "      <td>False.</td>\n",
              "    </tr>\n",
              "    <tr>\n",
              "      <th>2</th>\n",
              "      <td>NJ</td>\n",
              "      <td>137</td>\n",
              "      <td>415</td>\n",
              "      <td>358-1921</td>\n",
              "      <td>no</td>\n",
              "      <td>no</td>\n",
              "      <td>0</td>\n",
              "      <td>243.4</td>\n",
              "      <td>114</td>\n",
              "      <td>41.38</td>\n",
              "      <td>...</td>\n",
              "      <td>110</td>\n",
              "      <td>10.30</td>\n",
              "      <td>162.6</td>\n",
              "      <td>104</td>\n",
              "      <td>7.32</td>\n",
              "      <td>12.2</td>\n",
              "      <td>5</td>\n",
              "      <td>3.29</td>\n",
              "      <td>0</td>\n",
              "      <td>False.</td>\n",
              "    </tr>\n",
              "    <tr>\n",
              "      <th>3</th>\n",
              "      <td>OH</td>\n",
              "      <td>84</td>\n",
              "      <td>408</td>\n",
              "      <td>375-9999</td>\n",
              "      <td>yes</td>\n",
              "      <td>no</td>\n",
              "      <td>0</td>\n",
              "      <td>299.4</td>\n",
              "      <td>71</td>\n",
              "      <td>50.90</td>\n",
              "      <td>...</td>\n",
              "      <td>88</td>\n",
              "      <td>5.26</td>\n",
              "      <td>196.9</td>\n",
              "      <td>89</td>\n",
              "      <td>8.86</td>\n",
              "      <td>6.6</td>\n",
              "      <td>7</td>\n",
              "      <td>1.78</td>\n",
              "      <td>2</td>\n",
              "      <td>False.</td>\n",
              "    </tr>\n",
              "    <tr>\n",
              "      <th>4</th>\n",
              "      <td>OK</td>\n",
              "      <td>75</td>\n",
              "      <td>415</td>\n",
              "      <td>330-6626</td>\n",
              "      <td>yes</td>\n",
              "      <td>no</td>\n",
              "      <td>0</td>\n",
              "      <td>166.7</td>\n",
              "      <td>113</td>\n",
              "      <td>28.34</td>\n",
              "      <td>...</td>\n",
              "      <td>122</td>\n",
              "      <td>12.61</td>\n",
              "      <td>186.9</td>\n",
              "      <td>121</td>\n",
              "      <td>8.41</td>\n",
              "      <td>10.1</td>\n",
              "      <td>3</td>\n",
              "      <td>2.73</td>\n",
              "      <td>3</td>\n",
              "      <td>False.</td>\n",
              "    </tr>\n",
              "    <tr>\n",
              "      <th>...</th>\n",
              "      <td>...</td>\n",
              "      <td>...</td>\n",
              "      <td>...</td>\n",
              "      <td>...</td>\n",
              "      <td>...</td>\n",
              "      <td>...</td>\n",
              "      <td>...</td>\n",
              "      <td>...</td>\n",
              "      <td>...</td>\n",
              "      <td>...</td>\n",
              "      <td>...</td>\n",
              "      <td>...</td>\n",
              "      <td>...</td>\n",
              "      <td>...</td>\n",
              "      <td>...</td>\n",
              "      <td>...</td>\n",
              "      <td>...</td>\n",
              "      <td>...</td>\n",
              "      <td>...</td>\n",
              "      <td>...</td>\n",
              "      <td>...</td>\n",
              "    </tr>\n",
              "    <tr>\n",
              "      <th>3328</th>\n",
              "      <td>AZ</td>\n",
              "      <td>192</td>\n",
              "      <td>415</td>\n",
              "      <td>414-4276</td>\n",
              "      <td>no</td>\n",
              "      <td>yes</td>\n",
              "      <td>36</td>\n",
              "      <td>156.2</td>\n",
              "      <td>77</td>\n",
              "      <td>26.55</td>\n",
              "      <td>...</td>\n",
              "      <td>126</td>\n",
              "      <td>18.32</td>\n",
              "      <td>279.1</td>\n",
              "      <td>83</td>\n",
              "      <td>12.56</td>\n",
              "      <td>9.9</td>\n",
              "      <td>6</td>\n",
              "      <td>2.67</td>\n",
              "      <td>2</td>\n",
              "      <td>False.</td>\n",
              "    </tr>\n",
              "    <tr>\n",
              "      <th>3329</th>\n",
              "      <td>WV</td>\n",
              "      <td>68</td>\n",
              "      <td>415</td>\n",
              "      <td>370-3271</td>\n",
              "      <td>no</td>\n",
              "      <td>no</td>\n",
              "      <td>0</td>\n",
              "      <td>231.1</td>\n",
              "      <td>57</td>\n",
              "      <td>39.29</td>\n",
              "      <td>...</td>\n",
              "      <td>55</td>\n",
              "      <td>13.04</td>\n",
              "      <td>191.3</td>\n",
              "      <td>123</td>\n",
              "      <td>8.61</td>\n",
              "      <td>9.6</td>\n",
              "      <td>4</td>\n",
              "      <td>2.59</td>\n",
              "      <td>3</td>\n",
              "      <td>False.</td>\n",
              "    </tr>\n",
              "    <tr>\n",
              "      <th>3330</th>\n",
              "      <td>RI</td>\n",
              "      <td>28</td>\n",
              "      <td>510</td>\n",
              "      <td>328-8230</td>\n",
              "      <td>no</td>\n",
              "      <td>no</td>\n",
              "      <td>0</td>\n",
              "      <td>180.8</td>\n",
              "      <td>109</td>\n",
              "      <td>30.74</td>\n",
              "      <td>...</td>\n",
              "      <td>58</td>\n",
              "      <td>24.55</td>\n",
              "      <td>191.9</td>\n",
              "      <td>91</td>\n",
              "      <td>8.64</td>\n",
              "      <td>14.1</td>\n",
              "      <td>6</td>\n",
              "      <td>3.81</td>\n",
              "      <td>2</td>\n",
              "      <td>False.</td>\n",
              "    </tr>\n",
              "    <tr>\n",
              "      <th>3331</th>\n",
              "      <td>CT</td>\n",
              "      <td>184</td>\n",
              "      <td>510</td>\n",
              "      <td>364-6381</td>\n",
              "      <td>yes</td>\n",
              "      <td>no</td>\n",
              "      <td>0</td>\n",
              "      <td>213.8</td>\n",
              "      <td>105</td>\n",
              "      <td>36.35</td>\n",
              "      <td>...</td>\n",
              "      <td>84</td>\n",
              "      <td>13.57</td>\n",
              "      <td>139.2</td>\n",
              "      <td>137</td>\n",
              "      <td>6.26</td>\n",
              "      <td>5.0</td>\n",
              "      <td>10</td>\n",
              "      <td>1.35</td>\n",
              "      <td>2</td>\n",
              "      <td>False.</td>\n",
              "    </tr>\n",
              "    <tr>\n",
              "      <th>3332</th>\n",
              "      <td>TN</td>\n",
              "      <td>74</td>\n",
              "      <td>415</td>\n",
              "      <td>400-4344</td>\n",
              "      <td>no</td>\n",
              "      <td>yes</td>\n",
              "      <td>25</td>\n",
              "      <td>234.4</td>\n",
              "      <td>113</td>\n",
              "      <td>39.85</td>\n",
              "      <td>...</td>\n",
              "      <td>82</td>\n",
              "      <td>22.60</td>\n",
              "      <td>241.4</td>\n",
              "      <td>77</td>\n",
              "      <td>10.86</td>\n",
              "      <td>13.7</td>\n",
              "      <td>4</td>\n",
              "      <td>3.70</td>\n",
              "      <td>0</td>\n",
              "      <td>False.</td>\n",
              "    </tr>\n",
              "  </tbody>\n",
              "</table>\n",
              "<p>3333 rows × 21 columns</p>\n",
              "</div>"
            ],
            "text/plain": [
              "     State  Account Length  Area Code     Phone Int'l Plan VMail Plan  \\\n",
              "0       KS             128        415  382-4657         no        yes   \n",
              "1       OH             107        415  371-7191         no        yes   \n",
              "2       NJ             137        415  358-1921         no         no   \n",
              "3       OH              84        408  375-9999        yes         no   \n",
              "4       OK              75        415  330-6626        yes         no   \n",
              "...    ...             ...        ...       ...        ...        ...   \n",
              "3328    AZ             192        415  414-4276         no        yes   \n",
              "3329    WV              68        415  370-3271         no         no   \n",
              "3330    RI              28        510  328-8230         no         no   \n",
              "3331    CT             184        510  364-6381        yes         no   \n",
              "3332    TN              74        415  400-4344         no        yes   \n",
              "\n",
              "      VMail Message  Day Mins  Day Calls  Day Charge  ...  Eve Calls  \\\n",
              "0                25     265.1        110       45.07  ...         99   \n",
              "1                26     161.6        123       27.47  ...        103   \n",
              "2                 0     243.4        114       41.38  ...        110   \n",
              "3                 0     299.4         71       50.90  ...         88   \n",
              "4                 0     166.7        113       28.34  ...        122   \n",
              "...             ...       ...        ...         ...  ...        ...   \n",
              "3328             36     156.2         77       26.55  ...        126   \n",
              "3329              0     231.1         57       39.29  ...         55   \n",
              "3330              0     180.8        109       30.74  ...         58   \n",
              "3331              0     213.8        105       36.35  ...         84   \n",
              "3332             25     234.4        113       39.85  ...         82   \n",
              "\n",
              "      Eve Charge  Night Mins  Night Calls  Night Charge  Intl Mins  \\\n",
              "0          16.78       244.7           91         11.01       10.0   \n",
              "1          16.62       254.4          103         11.45       13.7   \n",
              "2          10.30       162.6          104          7.32       12.2   \n",
              "3           5.26       196.9           89          8.86        6.6   \n",
              "4          12.61       186.9          121          8.41       10.1   \n",
              "...          ...         ...          ...           ...        ...   \n",
              "3328       18.32       279.1           83         12.56        9.9   \n",
              "3329       13.04       191.3          123          8.61        9.6   \n",
              "3330       24.55       191.9           91          8.64       14.1   \n",
              "3331       13.57       139.2          137          6.26        5.0   \n",
              "3332       22.60       241.4           77         10.86       13.7   \n",
              "\n",
              "      Intl Calls  Intl Charge  CustServ Calls  Churn?  \n",
              "0              3         2.70               1  False.  \n",
              "1              3         3.70               1  False.  \n",
              "2              5         3.29               0  False.  \n",
              "3              7         1.78               2  False.  \n",
              "4              3         2.73               3  False.  \n",
              "...          ...          ...             ...     ...  \n",
              "3328           6         2.67               2  False.  \n",
              "3329           4         2.59               3  False.  \n",
              "3330           6         3.81               2  False.  \n",
              "3331          10         1.35               2  False.  \n",
              "3332           4         3.70               0  False.  \n",
              "\n",
              "[3333 rows x 21 columns]"
            ]
          },
          "execution_count": 2,
          "metadata": {},
          "output_type": "execute_result"
        }
      ],
      "source": [
        "import pandas as pd\n",
        "churn = pd.read_csv('./churn.txt')\n",
        "churn"
      ]
    },
    {
      "cell_type": "markdown",
      "metadata": {
        "id": "MvUrTKl_H2qG"
      },
      "source": [
        "Let's take a closer look. By modern standards, it’s a relatively small dataset with only 3,333 records. \n",
        "\n",
        "Each record uses 21 attributes to describe the profile of a customer of an unknown US mobile phone service provider. \n",
        "\n",
        "The attributes are:\n",
        "\n",
        "- `State`: The US state in which the customer resides indicated by a two-letter abbreviation. For example, OH or NJ\n",
        "- `Account Length`: The number of days that this account has been active\n",
        "- `Area Code`: The three-digit area code of the corresponding customer’s phone number\n",
        "- `Phone`: The seven-digit phone number\n",
        "- `Int’l Plan`: Whether the customer has an international calling plan: yes/no\n",
        "- `VMail Plan`: Whether the customer has a voice mail feature: yes/no\n",
        "- `VMail Message`: The average number of voice mail messages per month\n",
        "- `Day Mins`: The total number of calling minutes used during the day\n",
        "- `Day Calls`: The total number of calls placed during the day\n",
        "- `Day Charge`: The billed cost of daytime calls\n",
        "- `Eve Mins, Eve Calls, Eve Charge`: The billed cost for calls placed during the evening\n",
        "- `Night Mins`, `Night Calls`, `Night Charge`: The billed cost for calls placed during nighttime\n",
        "- `Intl Mins`, `Intl Calls`, `Intl Charge`: The billed cost for international calls\n",
        "- `CustServ Calls`: The number of calls placed to Customer Service\n",
        "- `Churn?`: Whether the customer left the service: true/false\n",
        "\n",
        "The last attribute, `Churn?`, is known as the *target attribute*&mdash;the attribute that we want the ML model to predict.  Because the target attribute is binary, our model will be performing binary prediction, also known as *binary classification*."
      ]
    },
    {
      "cell_type": "markdown",
      "metadata": {
        "id": "0TNCinuMH2qI"
      },
      "source": [
        "Now, you will explore and visualize the data and the relationships between attributes.\n",
        "\n",
        "We've already used pandas.  We also recommend using the numpy and/or matplotlib libraries."
      ]
    },
    {
      "cell_type": "code",
      "execution_count": null,
      "metadata": {
        "id": "QO61wCtRH2qI"
      },
      "outputs": [],
      "source": [
        "import numpy as np\n",
        "import matplotlib.pyplot as plt"
      ]
    },
    {
      "cell_type": "markdown",
      "metadata": {
        "id": "8y_wQ2yJH2qJ"
      },
      "source": [
        "The first step is to use a histogram to see how the values of individual attributes are distributed, as well as compute summary statistics for numeric attributes such as mean, min values, max values, standard deviations, etc. \n",
        "\n",
        "For categorical variables we need to see frequency tables. \n",
        "\n",
        "While there are several ways to do this in Python&mdash;we are going to use the following pandas functions:[`hist()`](https://pandas.pydata.org/pandas-docs/stable/generated/pandas.DataFrame.hist.html#pandas.DataFrame.hist),[`describe()`](https://pandas.pydata.org/pandas-docs/stable/generated/pandas.DataFrame.describe.html#pandas.DataFrame.describe),[`crosstab()`](https://pandas.pydata.org/pandas-docs/stable/generated/pandas.crosstab.html), and[`select_dtypes()`](https://pandas.pydata.org/pandas-docs/stable/generated/pandas.DataFrame.select_dtypes.html). \n",
        "\n",
        "To show the histograms right in the Jupyter notebook, we will also use the[`%matplotlib inline`](https://ipython.readthedocs.io/en/stable/interactive/plotting.html) magic function of IPython."
      ]
    },
    {
      "cell_type": "code",
      "execution_count": null,
      "metadata": {
        "scrolled": true,
        "id": "H6VSVYj8H2qK",
        "outputId": "13f0486a-05bf-4ca4-81e2-61f9576f4b02"
      },
      "outputs": [
        {
          "data": {
            "text/html": [
              "<div>\n",
              "<style scoped>\n",
              "    .dataframe tbody tr th:only-of-type {\n",
              "        vertical-align: middle;\n",
              "    }\n",
              "\n",
              "    .dataframe tbody tr th {\n",
              "        vertical-align: top;\n",
              "    }\n",
              "\n",
              "    .dataframe thead th {\n",
              "        text-align: right;\n",
              "    }\n",
              "</style>\n",
              "<table border=\"1\" class=\"dataframe\">\n",
              "  <thead>\n",
              "    <tr style=\"text-align: right;\">\n",
              "      <th>col_0</th>\n",
              "      <th>% observations</th>\n",
              "    </tr>\n",
              "    <tr>\n",
              "      <th>State</th>\n",
              "      <th></th>\n",
              "    </tr>\n",
              "  </thead>\n",
              "  <tbody>\n",
              "    <tr>\n",
              "      <th>AK</th>\n",
              "      <td>0.015602</td>\n",
              "    </tr>\n",
              "    <tr>\n",
              "      <th>AL</th>\n",
              "      <td>0.024002</td>\n",
              "    </tr>\n",
              "    <tr>\n",
              "      <th>AR</th>\n",
              "      <td>0.016502</td>\n",
              "    </tr>\n",
              "    <tr>\n",
              "      <th>AZ</th>\n",
              "      <td>0.019202</td>\n",
              "    </tr>\n",
              "    <tr>\n",
              "      <th>CA</th>\n",
              "      <td>0.010201</td>\n",
              "    </tr>\n",
              "    <tr>\n",
              "      <th>CO</th>\n",
              "      <td>0.019802</td>\n",
              "    </tr>\n",
              "    <tr>\n",
              "      <th>CT</th>\n",
              "      <td>0.022202</td>\n",
              "    </tr>\n",
              "    <tr>\n",
              "      <th>DC</th>\n",
              "      <td>0.016202</td>\n",
              "    </tr>\n",
              "    <tr>\n",
              "      <th>DE</th>\n",
              "      <td>0.018302</td>\n",
              "    </tr>\n",
              "    <tr>\n",
              "      <th>FL</th>\n",
              "      <td>0.018902</td>\n",
              "    </tr>\n",
              "    <tr>\n",
              "      <th>GA</th>\n",
              "      <td>0.016202</td>\n",
              "    </tr>\n",
              "    <tr>\n",
              "      <th>HI</th>\n",
              "      <td>0.015902</td>\n",
              "    </tr>\n",
              "    <tr>\n",
              "      <th>IA</th>\n",
              "      <td>0.013201</td>\n",
              "    </tr>\n",
              "    <tr>\n",
              "      <th>ID</th>\n",
              "      <td>0.021902</td>\n",
              "    </tr>\n",
              "    <tr>\n",
              "      <th>IL</th>\n",
              "      <td>0.017402</td>\n",
              "    </tr>\n",
              "    <tr>\n",
              "      <th>IN</th>\n",
              "      <td>0.021302</td>\n",
              "    </tr>\n",
              "    <tr>\n",
              "      <th>KS</th>\n",
              "      <td>0.021002</td>\n",
              "    </tr>\n",
              "    <tr>\n",
              "      <th>KY</th>\n",
              "      <td>0.017702</td>\n",
              "    </tr>\n",
              "    <tr>\n",
              "      <th>LA</th>\n",
              "      <td>0.015302</td>\n",
              "    </tr>\n",
              "    <tr>\n",
              "      <th>MA</th>\n",
              "      <td>0.019502</td>\n",
              "    </tr>\n",
              "    <tr>\n",
              "      <th>MD</th>\n",
              "      <td>0.021002</td>\n",
              "    </tr>\n",
              "    <tr>\n",
              "      <th>ME</th>\n",
              "      <td>0.018602</td>\n",
              "    </tr>\n",
              "    <tr>\n",
              "      <th>MI</th>\n",
              "      <td>0.021902</td>\n",
              "    </tr>\n",
              "    <tr>\n",
              "      <th>MN</th>\n",
              "      <td>0.025203</td>\n",
              "    </tr>\n",
              "    <tr>\n",
              "      <th>MO</th>\n",
              "      <td>0.018902</td>\n",
              "    </tr>\n",
              "    <tr>\n",
              "      <th>MS</th>\n",
              "      <td>0.019502</td>\n",
              "    </tr>\n",
              "    <tr>\n",
              "      <th>MT</th>\n",
              "      <td>0.020402</td>\n",
              "    </tr>\n",
              "    <tr>\n",
              "      <th>NC</th>\n",
              "      <td>0.020402</td>\n",
              "    </tr>\n",
              "    <tr>\n",
              "      <th>ND</th>\n",
              "      <td>0.018602</td>\n",
              "    </tr>\n",
              "    <tr>\n",
              "      <th>NE</th>\n",
              "      <td>0.018302</td>\n",
              "    </tr>\n",
              "    <tr>\n",
              "      <th>NH</th>\n",
              "      <td>0.016802</td>\n",
              "    </tr>\n",
              "    <tr>\n",
              "      <th>NJ</th>\n",
              "      <td>0.020402</td>\n",
              "    </tr>\n",
              "    <tr>\n",
              "      <th>NM</th>\n",
              "      <td>0.018602</td>\n",
              "    </tr>\n",
              "    <tr>\n",
              "      <th>NV</th>\n",
              "      <td>0.019802</td>\n",
              "    </tr>\n",
              "    <tr>\n",
              "      <th>NY</th>\n",
              "      <td>0.024902</td>\n",
              "    </tr>\n",
              "    <tr>\n",
              "      <th>OH</th>\n",
              "      <td>0.023402</td>\n",
              "    </tr>\n",
              "    <tr>\n",
              "      <th>OK</th>\n",
              "      <td>0.018302</td>\n",
              "    </tr>\n",
              "    <tr>\n",
              "      <th>OR</th>\n",
              "      <td>0.023402</td>\n",
              "    </tr>\n",
              "    <tr>\n",
              "      <th>PA</th>\n",
              "      <td>0.013501</td>\n",
              "    </tr>\n",
              "    <tr>\n",
              "      <th>RI</th>\n",
              "      <td>0.019502</td>\n",
              "    </tr>\n",
              "    <tr>\n",
              "      <th>SC</th>\n",
              "      <td>0.018002</td>\n",
              "    </tr>\n",
              "    <tr>\n",
              "      <th>SD</th>\n",
              "      <td>0.018002</td>\n",
              "    </tr>\n",
              "    <tr>\n",
              "      <th>TN</th>\n",
              "      <td>0.015902</td>\n",
              "    </tr>\n",
              "    <tr>\n",
              "      <th>TX</th>\n",
              "      <td>0.021602</td>\n",
              "    </tr>\n",
              "    <tr>\n",
              "      <th>UT</th>\n",
              "      <td>0.021602</td>\n",
              "    </tr>\n",
              "    <tr>\n",
              "      <th>VA</th>\n",
              "      <td>0.023102</td>\n",
              "    </tr>\n",
              "    <tr>\n",
              "      <th>VT</th>\n",
              "      <td>0.021902</td>\n",
              "    </tr>\n",
              "    <tr>\n",
              "      <th>WA</th>\n",
              "      <td>0.019802</td>\n",
              "    </tr>\n",
              "    <tr>\n",
              "      <th>WI</th>\n",
              "      <td>0.023402</td>\n",
              "    </tr>\n",
              "    <tr>\n",
              "      <th>WV</th>\n",
              "      <td>0.031803</td>\n",
              "    </tr>\n",
              "    <tr>\n",
              "      <th>WY</th>\n",
              "      <td>0.023102</td>\n",
              "    </tr>\n",
              "  </tbody>\n",
              "</table>\n",
              "</div>"
            ],
            "text/plain": [
              "col_0  % observations\n",
              "State                \n",
              "AK           0.015602\n",
              "AL           0.024002\n",
              "AR           0.016502\n",
              "AZ           0.019202\n",
              "CA           0.010201\n",
              "CO           0.019802\n",
              "CT           0.022202\n",
              "DC           0.016202\n",
              "DE           0.018302\n",
              "FL           0.018902\n",
              "GA           0.016202\n",
              "HI           0.015902\n",
              "IA           0.013201\n",
              "ID           0.021902\n",
              "IL           0.017402\n",
              "IN           0.021302\n",
              "KS           0.021002\n",
              "KY           0.017702\n",
              "LA           0.015302\n",
              "MA           0.019502\n",
              "MD           0.021002\n",
              "ME           0.018602\n",
              "MI           0.021902\n",
              "MN           0.025203\n",
              "MO           0.018902\n",
              "MS           0.019502\n",
              "MT           0.020402\n",
              "NC           0.020402\n",
              "ND           0.018602\n",
              "NE           0.018302\n",
              "NH           0.016802\n",
              "NJ           0.020402\n",
              "NM           0.018602\n",
              "NV           0.019802\n",
              "NY           0.024902\n",
              "OH           0.023402\n",
              "OK           0.018302\n",
              "OR           0.023402\n",
              "PA           0.013501\n",
              "RI           0.019502\n",
              "SC           0.018002\n",
              "SD           0.018002\n",
              "TN           0.015902\n",
              "TX           0.021602\n",
              "UT           0.021602\n",
              "VA           0.023102\n",
              "VT           0.021902\n",
              "WA           0.019802\n",
              "WI           0.023402\n",
              "WV           0.031803\n",
              "WY           0.023102"
            ]
          },
          "metadata": {},
          "output_type": "display_data"
        },
        {
          "name": "stdout",
          "output_type": "stream",
          "text": [
            "# of unique values 51\n"
          ]
        },
        {
          "data": {
            "text/html": [
              "<div>\n",
              "<style scoped>\n",
              "    .dataframe tbody tr th:only-of-type {\n",
              "        vertical-align: middle;\n",
              "    }\n",
              "\n",
              "    .dataframe tbody tr th {\n",
              "        vertical-align: top;\n",
              "    }\n",
              "\n",
              "    .dataframe thead th {\n",
              "        text-align: right;\n",
              "    }\n",
              "</style>\n",
              "<table border=\"1\" class=\"dataframe\">\n",
              "  <thead>\n",
              "    <tr style=\"text-align: right;\">\n",
              "      <th>col_0</th>\n",
              "      <th>% observations</th>\n",
              "    </tr>\n",
              "    <tr>\n",
              "      <th>Phone</th>\n",
              "      <th></th>\n",
              "    </tr>\n",
              "  </thead>\n",
              "  <tbody>\n",
              "    <tr>\n",
              "      <th>327-1058</th>\n",
              "      <td>0.0003</td>\n",
              "    </tr>\n",
              "    <tr>\n",
              "      <th>327-1319</th>\n",
              "      <td>0.0003</td>\n",
              "    </tr>\n",
              "    <tr>\n",
              "      <th>327-3053</th>\n",
              "      <td>0.0003</td>\n",
              "    </tr>\n",
              "    <tr>\n",
              "      <th>327-3587</th>\n",
              "      <td>0.0003</td>\n",
              "    </tr>\n",
              "    <tr>\n",
              "      <th>327-3850</th>\n",
              "      <td>0.0003</td>\n",
              "    </tr>\n",
              "    <tr>\n",
              "      <th>...</th>\n",
              "      <td>...</td>\n",
              "    </tr>\n",
              "    <tr>\n",
              "      <th>422-7728</th>\n",
              "      <td>0.0003</td>\n",
              "    </tr>\n",
              "    <tr>\n",
              "      <th>422-8268</th>\n",
              "      <td>0.0003</td>\n",
              "    </tr>\n",
              "    <tr>\n",
              "      <th>422-8333</th>\n",
              "      <td>0.0003</td>\n",
              "    </tr>\n",
              "    <tr>\n",
              "      <th>422-8344</th>\n",
              "      <td>0.0003</td>\n",
              "    </tr>\n",
              "    <tr>\n",
              "      <th>422-9964</th>\n",
              "      <td>0.0003</td>\n",
              "    </tr>\n",
              "  </tbody>\n",
              "</table>\n",
              "<p>3333 rows × 1 columns</p>\n",
              "</div>"
            ],
            "text/plain": [
              "col_0     % observations\n",
              "Phone                   \n",
              "327-1058          0.0003\n",
              "327-1319          0.0003\n",
              "327-3053          0.0003\n",
              "327-3587          0.0003\n",
              "327-3850          0.0003\n",
              "...                  ...\n",
              "422-7728          0.0003\n",
              "422-8268          0.0003\n",
              "422-8333          0.0003\n",
              "422-8344          0.0003\n",
              "422-9964          0.0003\n",
              "\n",
              "[3333 rows x 1 columns]"
            ]
          },
          "metadata": {},
          "output_type": "display_data"
        },
        {
          "name": "stdout",
          "output_type": "stream",
          "text": [
            "# of unique values 3333\n"
          ]
        },
        {
          "data": {
            "text/html": [
              "<div>\n",
              "<style scoped>\n",
              "    .dataframe tbody tr th:only-of-type {\n",
              "        vertical-align: middle;\n",
              "    }\n",
              "\n",
              "    .dataframe tbody tr th {\n",
              "        vertical-align: top;\n",
              "    }\n",
              "\n",
              "    .dataframe thead th {\n",
              "        text-align: right;\n",
              "    }\n",
              "</style>\n",
              "<table border=\"1\" class=\"dataframe\">\n",
              "  <thead>\n",
              "    <tr style=\"text-align: right;\">\n",
              "      <th>col_0</th>\n",
              "      <th>% observations</th>\n",
              "    </tr>\n",
              "    <tr>\n",
              "      <th>Int'l Plan</th>\n",
              "      <th></th>\n",
              "    </tr>\n",
              "  </thead>\n",
              "  <tbody>\n",
              "    <tr>\n",
              "      <th>no</th>\n",
              "      <td>0.90309</td>\n",
              "    </tr>\n",
              "    <tr>\n",
              "      <th>yes</th>\n",
              "      <td>0.09691</td>\n",
              "    </tr>\n",
              "  </tbody>\n",
              "</table>\n",
              "</div>"
            ],
            "text/plain": [
              "col_0       % observations\n",
              "Int'l Plan                \n",
              "no                 0.90309\n",
              "yes                0.09691"
            ]
          },
          "metadata": {},
          "output_type": "display_data"
        },
        {
          "name": "stdout",
          "output_type": "stream",
          "text": [
            "# of unique values 2\n"
          ]
        },
        {
          "data": {
            "text/html": [
              "<div>\n",
              "<style scoped>\n",
              "    .dataframe tbody tr th:only-of-type {\n",
              "        vertical-align: middle;\n",
              "    }\n",
              "\n",
              "    .dataframe tbody tr th {\n",
              "        vertical-align: top;\n",
              "    }\n",
              "\n",
              "    .dataframe thead th {\n",
              "        text-align: right;\n",
              "    }\n",
              "</style>\n",
              "<table border=\"1\" class=\"dataframe\">\n",
              "  <thead>\n",
              "    <tr style=\"text-align: right;\">\n",
              "      <th>col_0</th>\n",
              "      <th>% observations</th>\n",
              "    </tr>\n",
              "    <tr>\n",
              "      <th>VMail Plan</th>\n",
              "      <th></th>\n",
              "    </tr>\n",
              "  </thead>\n",
              "  <tbody>\n",
              "    <tr>\n",
              "      <th>no</th>\n",
              "      <td>0.723372</td>\n",
              "    </tr>\n",
              "    <tr>\n",
              "      <th>yes</th>\n",
              "      <td>0.276628</td>\n",
              "    </tr>\n",
              "  </tbody>\n",
              "</table>\n",
              "</div>"
            ],
            "text/plain": [
              "col_0       % observations\n",
              "VMail Plan                \n",
              "no                0.723372\n",
              "yes               0.276628"
            ]
          },
          "metadata": {},
          "output_type": "display_data"
        },
        {
          "name": "stdout",
          "output_type": "stream",
          "text": [
            "# of unique values 2\n"
          ]
        },
        {
          "data": {
            "text/html": [
              "<div>\n",
              "<style scoped>\n",
              "    .dataframe tbody tr th:only-of-type {\n",
              "        vertical-align: middle;\n",
              "    }\n",
              "\n",
              "    .dataframe tbody tr th {\n",
              "        vertical-align: top;\n",
              "    }\n",
              "\n",
              "    .dataframe thead th {\n",
              "        text-align: right;\n",
              "    }\n",
              "</style>\n",
              "<table border=\"1\" class=\"dataframe\">\n",
              "  <thead>\n",
              "    <tr style=\"text-align: right;\">\n",
              "      <th>col_0</th>\n",
              "      <th>% observations</th>\n",
              "    </tr>\n",
              "    <tr>\n",
              "      <th>Churn?</th>\n",
              "      <th></th>\n",
              "    </tr>\n",
              "  </thead>\n",
              "  <tbody>\n",
              "    <tr>\n",
              "      <th>False.</th>\n",
              "      <td>0.855086</td>\n",
              "    </tr>\n",
              "    <tr>\n",
              "      <th>True.</th>\n",
              "      <td>0.144914</td>\n",
              "    </tr>\n",
              "  </tbody>\n",
              "</table>\n",
              "</div>"
            ],
            "text/plain": [
              "col_0   % observations\n",
              "Churn?                \n",
              "False.        0.855086\n",
              "True.         0.144914"
            ]
          },
          "metadata": {},
          "output_type": "display_data"
        },
        {
          "name": "stdout",
          "output_type": "stream",
          "text": [
            "# of unique values 2\n"
          ]
        },
        {
          "data": {
            "text/html": [
              "<div>\n",
              "<style scoped>\n",
              "    .dataframe tbody tr th:only-of-type {\n",
              "        vertical-align: middle;\n",
              "    }\n",
              "\n",
              "    .dataframe tbody tr th {\n",
              "        vertical-align: top;\n",
              "    }\n",
              "\n",
              "    .dataframe thead th {\n",
              "        text-align: right;\n",
              "    }\n",
              "</style>\n",
              "<table border=\"1\" class=\"dataframe\">\n",
              "  <thead>\n",
              "    <tr style=\"text-align: right;\">\n",
              "      <th></th>\n",
              "      <th>Account Length</th>\n",
              "      <th>Area Code</th>\n",
              "      <th>VMail Message</th>\n",
              "      <th>Day Mins</th>\n",
              "      <th>Day Calls</th>\n",
              "      <th>Day Charge</th>\n",
              "      <th>Eve Mins</th>\n",
              "      <th>Eve Calls</th>\n",
              "      <th>Eve Charge</th>\n",
              "      <th>Night Mins</th>\n",
              "      <th>Night Calls</th>\n",
              "      <th>Night Charge</th>\n",
              "      <th>Intl Mins</th>\n",
              "      <th>Intl Calls</th>\n",
              "      <th>Intl Charge</th>\n",
              "      <th>CustServ Calls</th>\n",
              "    </tr>\n",
              "  </thead>\n",
              "  <tbody>\n",
              "    <tr>\n",
              "      <th>count</th>\n",
              "      <td>3333.000000</td>\n",
              "      <td>3333.000000</td>\n",
              "      <td>3333.000000</td>\n",
              "      <td>3333.000000</td>\n",
              "      <td>3333.000000</td>\n",
              "      <td>3333.000000</td>\n",
              "      <td>3333.000000</td>\n",
              "      <td>3333.000000</td>\n",
              "      <td>3333.000000</td>\n",
              "      <td>3333.000000</td>\n",
              "      <td>3333.000000</td>\n",
              "      <td>3333.000000</td>\n",
              "      <td>3333.000000</td>\n",
              "      <td>3333.000000</td>\n",
              "      <td>3333.000000</td>\n",
              "      <td>3333.000000</td>\n",
              "    </tr>\n",
              "    <tr>\n",
              "      <th>mean</th>\n",
              "      <td>101.064806</td>\n",
              "      <td>437.182418</td>\n",
              "      <td>8.099010</td>\n",
              "      <td>179.775098</td>\n",
              "      <td>100.435644</td>\n",
              "      <td>30.562307</td>\n",
              "      <td>200.980348</td>\n",
              "      <td>100.114311</td>\n",
              "      <td>17.083540</td>\n",
              "      <td>200.872037</td>\n",
              "      <td>100.107711</td>\n",
              "      <td>9.039325</td>\n",
              "      <td>10.237294</td>\n",
              "      <td>4.479448</td>\n",
              "      <td>2.764581</td>\n",
              "      <td>1.562856</td>\n",
              "    </tr>\n",
              "    <tr>\n",
              "      <th>std</th>\n",
              "      <td>39.822106</td>\n",
              "      <td>42.371290</td>\n",
              "      <td>13.688365</td>\n",
              "      <td>54.467389</td>\n",
              "      <td>20.069084</td>\n",
              "      <td>9.259435</td>\n",
              "      <td>50.713844</td>\n",
              "      <td>19.922625</td>\n",
              "      <td>4.310668</td>\n",
              "      <td>50.573847</td>\n",
              "      <td>19.568609</td>\n",
              "      <td>2.275873</td>\n",
              "      <td>2.791840</td>\n",
              "      <td>2.461214</td>\n",
              "      <td>0.753773</td>\n",
              "      <td>1.315491</td>\n",
              "    </tr>\n",
              "    <tr>\n",
              "      <th>min</th>\n",
              "      <td>1.000000</td>\n",
              "      <td>408.000000</td>\n",
              "      <td>0.000000</td>\n",
              "      <td>0.000000</td>\n",
              "      <td>0.000000</td>\n",
              "      <td>0.000000</td>\n",
              "      <td>0.000000</td>\n",
              "      <td>0.000000</td>\n",
              "      <td>0.000000</td>\n",
              "      <td>23.200000</td>\n",
              "      <td>33.000000</td>\n",
              "      <td>1.040000</td>\n",
              "      <td>0.000000</td>\n",
              "      <td>0.000000</td>\n",
              "      <td>0.000000</td>\n",
              "      <td>0.000000</td>\n",
              "    </tr>\n",
              "    <tr>\n",
              "      <th>25%</th>\n",
              "      <td>74.000000</td>\n",
              "      <td>408.000000</td>\n",
              "      <td>0.000000</td>\n",
              "      <td>143.700000</td>\n",
              "      <td>87.000000</td>\n",
              "      <td>24.430000</td>\n",
              "      <td>166.600000</td>\n",
              "      <td>87.000000</td>\n",
              "      <td>14.160000</td>\n",
              "      <td>167.000000</td>\n",
              "      <td>87.000000</td>\n",
              "      <td>7.520000</td>\n",
              "      <td>8.500000</td>\n",
              "      <td>3.000000</td>\n",
              "      <td>2.300000</td>\n",
              "      <td>1.000000</td>\n",
              "    </tr>\n",
              "    <tr>\n",
              "      <th>50%</th>\n",
              "      <td>101.000000</td>\n",
              "      <td>415.000000</td>\n",
              "      <td>0.000000</td>\n",
              "      <td>179.400000</td>\n",
              "      <td>101.000000</td>\n",
              "      <td>30.500000</td>\n",
              "      <td>201.400000</td>\n",
              "      <td>100.000000</td>\n",
              "      <td>17.120000</td>\n",
              "      <td>201.200000</td>\n",
              "      <td>100.000000</td>\n",
              "      <td>9.050000</td>\n",
              "      <td>10.300000</td>\n",
              "      <td>4.000000</td>\n",
              "      <td>2.780000</td>\n",
              "      <td>1.000000</td>\n",
              "    </tr>\n",
              "    <tr>\n",
              "      <th>75%</th>\n",
              "      <td>127.000000</td>\n",
              "      <td>510.000000</td>\n",
              "      <td>20.000000</td>\n",
              "      <td>216.400000</td>\n",
              "      <td>114.000000</td>\n",
              "      <td>36.790000</td>\n",
              "      <td>235.300000</td>\n",
              "      <td>114.000000</td>\n",
              "      <td>20.000000</td>\n",
              "      <td>235.300000</td>\n",
              "      <td>113.000000</td>\n",
              "      <td>10.590000</td>\n",
              "      <td>12.100000</td>\n",
              "      <td>6.000000</td>\n",
              "      <td>3.270000</td>\n",
              "      <td>2.000000</td>\n",
              "    </tr>\n",
              "    <tr>\n",
              "      <th>max</th>\n",
              "      <td>243.000000</td>\n",
              "      <td>510.000000</td>\n",
              "      <td>51.000000</td>\n",
              "      <td>350.800000</td>\n",
              "      <td>165.000000</td>\n",
              "      <td>59.640000</td>\n",
              "      <td>363.700000</td>\n",
              "      <td>170.000000</td>\n",
              "      <td>30.910000</td>\n",
              "      <td>395.000000</td>\n",
              "      <td>175.000000</td>\n",
              "      <td>17.770000</td>\n",
              "      <td>20.000000</td>\n",
              "      <td>20.000000</td>\n",
              "      <td>5.400000</td>\n",
              "      <td>9.000000</td>\n",
              "    </tr>\n",
              "  </tbody>\n",
              "</table>\n",
              "</div>"
            ],
            "text/plain": [
              "       Account Length    Area Code  VMail Message     Day Mins    Day Calls  \\\n",
              "count     3333.000000  3333.000000    3333.000000  3333.000000  3333.000000   \n",
              "mean       101.064806   437.182418       8.099010   179.775098   100.435644   \n",
              "std         39.822106    42.371290      13.688365    54.467389    20.069084   \n",
              "min          1.000000   408.000000       0.000000     0.000000     0.000000   \n",
              "25%         74.000000   408.000000       0.000000   143.700000    87.000000   \n",
              "50%        101.000000   415.000000       0.000000   179.400000   101.000000   \n",
              "75%        127.000000   510.000000      20.000000   216.400000   114.000000   \n",
              "max        243.000000   510.000000      51.000000   350.800000   165.000000   \n",
              "\n",
              "        Day Charge     Eve Mins    Eve Calls   Eve Charge   Night Mins  \\\n",
              "count  3333.000000  3333.000000  3333.000000  3333.000000  3333.000000   \n",
              "mean     30.562307   200.980348   100.114311    17.083540   200.872037   \n",
              "std       9.259435    50.713844    19.922625     4.310668    50.573847   \n",
              "min       0.000000     0.000000     0.000000     0.000000    23.200000   \n",
              "25%      24.430000   166.600000    87.000000    14.160000   167.000000   \n",
              "50%      30.500000   201.400000   100.000000    17.120000   201.200000   \n",
              "75%      36.790000   235.300000   114.000000    20.000000   235.300000   \n",
              "max      59.640000   363.700000   170.000000    30.910000   395.000000   \n",
              "\n",
              "       Night Calls  Night Charge    Intl Mins   Intl Calls  Intl Charge  \\\n",
              "count  3333.000000   3333.000000  3333.000000  3333.000000  3333.000000   \n",
              "mean    100.107711      9.039325    10.237294     4.479448     2.764581   \n",
              "std      19.568609      2.275873     2.791840     2.461214     0.753773   \n",
              "min      33.000000      1.040000     0.000000     0.000000     0.000000   \n",
              "25%      87.000000      7.520000     8.500000     3.000000     2.300000   \n",
              "50%     100.000000      9.050000    10.300000     4.000000     2.780000   \n",
              "75%     113.000000     10.590000    12.100000     6.000000     3.270000   \n",
              "max     175.000000     17.770000    20.000000    20.000000     5.400000   \n",
              "\n",
              "       CustServ Calls  \n",
              "count     3333.000000  \n",
              "mean         1.562856  \n",
              "std          1.315491  \n",
              "min          0.000000  \n",
              "25%          1.000000  \n",
              "50%          1.000000  \n",
              "75%          2.000000  \n",
              "max          9.000000  "
            ]
          },
          "metadata": {},
          "output_type": "display_data"
        },
        {
          "data": {
            "image/png": "[encoded data removed]",
            "text/plain": [
              "<Figure size 720x720 with 16 Axes>"
            ]
          },
          "metadata": {
            "needs_background": "light"
          },
          "output_type": "display_data"
        }
      ],
      "source": [
        "# show frequency tables for each categorical feature and counts of unique values\n",
        "for column in churn.select_dtypes(include=['object']).columns:\n",
        "    display(pd.crosstab(index=churn[column],\n",
        "                        columns='% observations', \n",
        "                        normalize='columns'))\n",
        "    print(\"# of unique values {}\".format(churn[column].nunique()))\n",
        "\n",
        "# show summary statistics\n",
        "display(churn.describe())\n",
        "\n",
        "# build histograms for each numeric feature\n",
        "%matplotlib inline\n",
        "hist = churn.hist(bins=30, sharey=True, figsize=(10, 10))"
      ]
    },
    {
      "cell_type": "markdown",
      "metadata": {
        "id": "e9pd_FItH2qM"
      },
      "source": [
        "We can see immediately that:\n",
        "* `State` appears to be quite evenly distributed\n",
        "* `Phone` takes on too many unique values to be of any practical use.  It's possible that parsing out the prefix could have some value, but unless you have more context on how these are allocated, avoid using it.\n",
        "* Only 14% of customers churned, so there is some class imabalance, but nothing extreme.\n",
        "* Most of the numeric features are surprisingly well distributed, with many showing bell-like gaussianity.  `VMail Message` being a notable exception (and `Area Code` showing up as a feature we should convert to non-numeric).\n",
        "\n",
        "### Exercise 1\n",
        "\n",
        "Now that we've shown how to do the first part of the exercise, it's time for you to complete the second part by looking at how each feature relates to our target variable `Churn?`. \n",
        "\n",
        "You can accomplish this using the same pandas functions of `crosstab()`and`hist()`by entering the code in the cell below.\n"
      ]
    },
    {
      "cell_type": "code",
      "execution_count": null,
      "metadata": {
        "id": "kIQPdLacH2qN",
        "outputId": "0871cfed-cfb3-4d11-ecda-f99640d1e20a"
      },
      "outputs": [
        {
          "data": {
            "text/html": [
              "<div>\n",
              "<style scoped>\n",
              "    .dataframe tbody tr th:only-of-type {\n",
              "        vertical-align: middle;\n",
              "    }\n",
              "\n",
              "    .dataframe tbody tr th {\n",
              "        vertical-align: top;\n",
              "    }\n",
              "\n",
              "    .dataframe thead th {\n",
              "        text-align: right;\n",
              "    }\n",
              "</style>\n",
              "<table border=\"1\" class=\"dataframe\">\n",
              "  <thead>\n",
              "    <tr style=\"text-align: right;\">\n",
              "      <th>Churn?</th>\n",
              "      <th>False.</th>\n",
              "      <th>True.</th>\n",
              "    </tr>\n",
              "    <tr>\n",
              "      <th>State</th>\n",
              "      <th></th>\n",
              "      <th></th>\n",
              "    </tr>\n",
              "  </thead>\n",
              "  <tbody>\n",
              "    <tr>\n",
              "      <th>AK</th>\n",
              "      <td>0.017193</td>\n",
              "      <td>0.006211</td>\n",
              "    </tr>\n",
              "    <tr>\n",
              "      <th>AL</th>\n",
              "      <td>0.025263</td>\n",
              "      <td>0.016563</td>\n",
              "    </tr>\n",
              "    <tr>\n",
              "      <th>AR</th>\n",
              "      <td>0.015439</td>\n",
              "      <td>0.022774</td>\n",
              "    </tr>\n",
              "    <tr>\n",
              "      <th>AZ</th>\n",
              "      <td>0.021053</td>\n",
              "      <td>0.008282</td>\n",
              "    </tr>\n",
              "    <tr>\n",
              "      <th>CA</th>\n",
              "      <td>0.008772</td>\n",
              "      <td>0.018634</td>\n",
              "    </tr>\n",
              "    <tr>\n",
              "      <th>CO</th>\n",
              "      <td>0.020000</td>\n",
              "      <td>0.018634</td>\n",
              "    </tr>\n",
              "    <tr>\n",
              "      <th>CT</th>\n",
              "      <td>0.021754</td>\n",
              "      <td>0.024845</td>\n",
              "    </tr>\n",
              "    <tr>\n",
              "      <th>DC</th>\n",
              "      <td>0.017193</td>\n",
              "      <td>0.010352</td>\n",
              "    </tr>\n",
              "    <tr>\n",
              "      <th>DE</th>\n",
              "      <td>0.018246</td>\n",
              "      <td>0.018634</td>\n",
              "    </tr>\n",
              "    <tr>\n",
              "      <th>FL</th>\n",
              "      <td>0.019298</td>\n",
              "      <td>0.016563</td>\n",
              "    </tr>\n",
              "    <tr>\n",
              "      <th>GA</th>\n",
              "      <td>0.016140</td>\n",
              "      <td>0.016563</td>\n",
              "    </tr>\n",
              "    <tr>\n",
              "      <th>HI</th>\n",
              "      <td>0.017544</td>\n",
              "      <td>0.006211</td>\n",
              "    </tr>\n",
              "    <tr>\n",
              "      <th>IA</th>\n",
              "      <td>0.014386</td>\n",
              "      <td>0.006211</td>\n",
              "    </tr>\n",
              "    <tr>\n",
              "      <th>ID</th>\n",
              "      <td>0.022456</td>\n",
              "      <td>0.018634</td>\n",
              "    </tr>\n",
              "    <tr>\n",
              "      <th>IL</th>\n",
              "      <td>0.018596</td>\n",
              "      <td>0.010352</td>\n",
              "    </tr>\n",
              "    <tr>\n",
              "      <th>IN</th>\n",
              "      <td>0.021754</td>\n",
              "      <td>0.018634</td>\n",
              "    </tr>\n",
              "    <tr>\n",
              "      <th>KS</th>\n",
              "      <td>0.020000</td>\n",
              "      <td>0.026915</td>\n",
              "    </tr>\n",
              "    <tr>\n",
              "      <th>KY</th>\n",
              "      <td>0.017895</td>\n",
              "      <td>0.016563</td>\n",
              "    </tr>\n",
              "    <tr>\n",
              "      <th>LA</th>\n",
              "      <td>0.016491</td>\n",
              "      <td>0.008282</td>\n",
              "    </tr>\n",
              "    <tr>\n",
              "      <th>MA</th>\n",
              "      <td>0.018947</td>\n",
              "      <td>0.022774</td>\n",
              "    </tr>\n",
              "    <tr>\n",
              "      <th>MD</th>\n",
              "      <td>0.018596</td>\n",
              "      <td>0.035197</td>\n",
              "    </tr>\n",
              "    <tr>\n",
              "      <th>ME</th>\n",
              "      <td>0.017193</td>\n",
              "      <td>0.026915</td>\n",
              "    </tr>\n",
              "    <tr>\n",
              "      <th>MI</th>\n",
              "      <td>0.020000</td>\n",
              "      <td>0.033126</td>\n",
              "    </tr>\n",
              "    <tr>\n",
              "      <th>MN</th>\n",
              "      <td>0.024211</td>\n",
              "      <td>0.031056</td>\n",
              "    </tr>\n",
              "    <tr>\n",
              "      <th>MO</th>\n",
              "      <td>0.019649</td>\n",
              "      <td>0.014493</td>\n",
              "    </tr>\n",
              "    <tr>\n",
              "      <th>MS</th>\n",
              "      <td>0.017895</td>\n",
              "      <td>0.028986</td>\n",
              "    </tr>\n",
              "    <tr>\n",
              "      <th>MT</th>\n",
              "      <td>0.018947</td>\n",
              "      <td>0.028986</td>\n",
              "    </tr>\n",
              "    <tr>\n",
              "      <th>NC</th>\n",
              "      <td>0.020000</td>\n",
              "      <td>0.022774</td>\n",
              "    </tr>\n",
              "    <tr>\n",
              "      <th>ND</th>\n",
              "      <td>0.019649</td>\n",
              "      <td>0.012422</td>\n",
              "    </tr>\n",
              "    <tr>\n",
              "      <th>NE</th>\n",
              "      <td>0.019649</td>\n",
              "      <td>0.010352</td>\n",
              "    </tr>\n",
              "    <tr>\n",
              "      <th>NH</th>\n",
              "      <td>0.016491</td>\n",
              "      <td>0.018634</td>\n",
              "    </tr>\n",
              "    <tr>\n",
              "      <th>NJ</th>\n",
              "      <td>0.017544</td>\n",
              "      <td>0.037267</td>\n",
              "    </tr>\n",
              "    <tr>\n",
              "      <th>NM</th>\n",
              "      <td>0.019649</td>\n",
              "      <td>0.012422</td>\n",
              "    </tr>\n",
              "    <tr>\n",
              "      <th>NV</th>\n",
              "      <td>0.018246</td>\n",
              "      <td>0.028986</td>\n",
              "    </tr>\n",
              "    <tr>\n",
              "      <th>NY</th>\n",
              "      <td>0.023860</td>\n",
              "      <td>0.031056</td>\n",
              "    </tr>\n",
              "    <tr>\n",
              "      <th>OH</th>\n",
              "      <td>0.023860</td>\n",
              "      <td>0.020704</td>\n",
              "    </tr>\n",
              "    <tr>\n",
              "      <th>OK</th>\n",
              "      <td>0.018246</td>\n",
              "      <td>0.018634</td>\n",
              "    </tr>\n",
              "    <tr>\n",
              "      <th>OR</th>\n",
              "      <td>0.023509</td>\n",
              "      <td>0.022774</td>\n",
              "    </tr>\n",
              "    <tr>\n",
              "      <th>PA</th>\n",
              "      <td>0.012982</td>\n",
              "      <td>0.016563</td>\n",
              "    </tr>\n",
              "    <tr>\n",
              "      <th>RI</th>\n",
              "      <td>0.020702</td>\n",
              "      <td>0.012422</td>\n",
              "    </tr>\n",
              "    <tr>\n",
              "      <th>SC</th>\n",
              "      <td>0.016140</td>\n",
              "      <td>0.028986</td>\n",
              "    </tr>\n",
              "    <tr>\n",
              "      <th>SD</th>\n",
              "      <td>0.018246</td>\n",
              "      <td>0.016563</td>\n",
              "    </tr>\n",
              "    <tr>\n",
              "      <th>TN</th>\n",
              "      <td>0.016842</td>\n",
              "      <td>0.010352</td>\n",
              "    </tr>\n",
              "    <tr>\n",
              "      <th>TX</th>\n",
              "      <td>0.018947</td>\n",
              "      <td>0.037267</td>\n",
              "    </tr>\n",
              "    <tr>\n",
              "      <th>UT</th>\n",
              "      <td>0.021754</td>\n",
              "      <td>0.020704</td>\n",
              "    </tr>\n",
              "    <tr>\n",
              "      <th>VA</th>\n",
              "      <td>0.025263</td>\n",
              "      <td>0.010352</td>\n",
              "    </tr>\n",
              "    <tr>\n",
              "      <th>VT</th>\n",
              "      <td>0.022807</td>\n",
              "      <td>0.016563</td>\n",
              "    </tr>\n",
              "    <tr>\n",
              "      <th>WA</th>\n",
              "      <td>0.018246</td>\n",
              "      <td>0.028986</td>\n",
              "    </tr>\n",
              "    <tr>\n",
              "      <th>WI</th>\n",
              "      <td>0.024912</td>\n",
              "      <td>0.014493</td>\n",
              "    </tr>\n",
              "    <tr>\n",
              "      <th>WV</th>\n",
              "      <td>0.033684</td>\n",
              "      <td>0.020704</td>\n",
              "    </tr>\n",
              "    <tr>\n",
              "      <th>WY</th>\n",
              "      <td>0.023860</td>\n",
              "      <td>0.018634</td>\n",
              "    </tr>\n",
              "  </tbody>\n",
              "</table>\n",
              "</div>"
            ],
            "text/plain": [
              "Churn?    False.     True.\n",
              "State                     \n",
              "AK      0.017193  0.006211\n",
              "AL      0.025263  0.016563\n",
              "AR      0.015439  0.022774\n",
              "AZ      0.021053  0.008282\n",
              "CA      0.008772  0.018634\n",
              "CO      0.020000  0.018634\n",
              "CT      0.021754  0.024845\n",
              "DC      0.017193  0.010352\n",
              "DE      0.018246  0.018634\n",
              "FL      0.019298  0.016563\n",
              "GA      0.016140  0.016563\n",
              "HI      0.017544  0.006211\n",
              "IA      0.014386  0.006211\n",
              "ID      0.022456  0.018634\n",
              "IL      0.018596  0.010352\n",
              "IN      0.021754  0.018634\n",
              "KS      0.020000  0.026915\n",
              "KY      0.017895  0.016563\n",
              "LA      0.016491  0.008282\n",
              "MA      0.018947  0.022774\n",
              "MD      0.018596  0.035197\n",
              "ME      0.017193  0.026915\n",
              "MI      0.020000  0.033126\n",
              "MN      0.024211  0.031056\n",
              "MO      0.019649  0.014493\n",
              "MS      0.017895  0.028986\n",
              "MT      0.018947  0.028986\n",
              "NC      0.020000  0.022774\n",
              "ND      0.019649  0.012422\n",
              "NE      0.019649  0.010352\n",
              "NH      0.016491  0.018634\n",
              "NJ      0.017544  0.037267\n",
              "NM      0.019649  0.012422\n",
              "NV      0.018246  0.028986\n",
              "NY      0.023860  0.031056\n",
              "OH      0.023860  0.020704\n",
              "OK      0.018246  0.018634\n",
              "OR      0.023509  0.022774\n",
              "PA      0.012982  0.016563\n",
              "RI      0.020702  0.012422\n",
              "SC      0.016140  0.028986\n",
              "SD      0.018246  0.016563\n",
              "TN      0.016842  0.010352\n",
              "TX      0.018947  0.037267\n",
              "UT      0.021754  0.020704\n",
              "VA      0.025263  0.010352\n",
              "VT      0.022807  0.016563\n",
              "WA      0.018246  0.028986\n",
              "WI      0.024912  0.014493\n",
              "WV      0.033684  0.020704\n",
              "WY      0.023860  0.018634"
            ]
          },
          "metadata": {},
          "output_type": "display_data"
        },
        {
          "data": {
            "text/html": [
              "<div>\n",
              "<style scoped>\n",
              "    .dataframe tbody tr th:only-of-type {\n",
              "        vertical-align: middle;\n",
              "    }\n",
              "\n",
              "    .dataframe tbody tr th {\n",
              "        vertical-align: top;\n",
              "    }\n",
              "\n",
              "    .dataframe thead th {\n",
              "        text-align: right;\n",
              "    }\n",
              "</style>\n",
              "<table border=\"1\" class=\"dataframe\">\n",
              "  <thead>\n",
              "    <tr style=\"text-align: right;\">\n",
              "      <th>Churn?</th>\n",
              "      <th>False.</th>\n",
              "      <th>True.</th>\n",
              "    </tr>\n",
              "    <tr>\n",
              "      <th>Phone</th>\n",
              "      <th></th>\n",
              "      <th></th>\n",
              "    </tr>\n",
              "  </thead>\n",
              "  <tbody>\n",
              "    <tr>\n",
              "      <th>327-1058</th>\n",
              "      <td>0.000351</td>\n",
              "      <td>0.00000</td>\n",
              "    </tr>\n",
              "    <tr>\n",
              "      <th>327-1319</th>\n",
              "      <td>0.000351</td>\n",
              "      <td>0.00000</td>\n",
              "    </tr>\n",
              "    <tr>\n",
              "      <th>327-3053</th>\n",
              "      <td>0.000351</td>\n",
              "      <td>0.00000</td>\n",
              "    </tr>\n",
              "    <tr>\n",
              "      <th>327-3587</th>\n",
              "      <td>0.000000</td>\n",
              "      <td>0.00207</td>\n",
              "    </tr>\n",
              "    <tr>\n",
              "      <th>327-3850</th>\n",
              "      <td>0.000351</td>\n",
              "      <td>0.00000</td>\n",
              "    </tr>\n",
              "    <tr>\n",
              "      <th>...</th>\n",
              "      <td>...</td>\n",
              "      <td>...</td>\n",
              "    </tr>\n",
              "    <tr>\n",
              "      <th>422-7728</th>\n",
              "      <td>0.000351</td>\n",
              "      <td>0.00000</td>\n",
              "    </tr>\n",
              "    <tr>\n",
              "      <th>422-8268</th>\n",
              "      <td>0.000351</td>\n",
              "      <td>0.00000</td>\n",
              "    </tr>\n",
              "    <tr>\n",
              "      <th>422-8333</th>\n",
              "      <td>0.000351</td>\n",
              "      <td>0.00000</td>\n",
              "    </tr>\n",
              "    <tr>\n",
              "      <th>422-8344</th>\n",
              "      <td>0.000351</td>\n",
              "      <td>0.00000</td>\n",
              "    </tr>\n",
              "    <tr>\n",
              "      <th>422-9964</th>\n",
              "      <td>0.000351</td>\n",
              "      <td>0.00000</td>\n",
              "    </tr>\n",
              "  </tbody>\n",
              "</table>\n",
              "<p>3333 rows × 2 columns</p>\n",
              "</div>"
            ],
            "text/plain": [
              "Churn?      False.    True.\n",
              "Phone                      \n",
              "327-1058  0.000351  0.00000\n",
              "327-1319  0.000351  0.00000\n",
              "327-3053  0.000351  0.00000\n",
              "327-3587  0.000000  0.00207\n",
              "327-3850  0.000351  0.00000\n",
              "...            ...      ...\n",
              "422-7728  0.000351  0.00000\n",
              "422-8268  0.000351  0.00000\n",
              "422-8333  0.000351  0.00000\n",
              "422-8344  0.000351  0.00000\n",
              "422-9964  0.000351  0.00000\n",
              "\n",
              "[3333 rows x 2 columns]"
            ]
          },
          "metadata": {},
          "output_type": "display_data"
        },
        {
          "data": {
            "text/html": [
              "<div>\n",
              "<style scoped>\n",
              "    .dataframe tbody tr th:only-of-type {\n",
              "        vertical-align: middle;\n",
              "    }\n",
              "\n",
              "    .dataframe tbody tr th {\n",
              "        vertical-align: top;\n",
              "    }\n",
              "\n",
              "    .dataframe thead th {\n",
              "        text-align: right;\n",
              "    }\n",
              "</style>\n",
              "<table border=\"1\" class=\"dataframe\">\n",
              "  <thead>\n",
              "    <tr style=\"text-align: right;\">\n",
              "      <th>Churn?</th>\n",
              "      <th>False.</th>\n",
              "      <th>True.</th>\n",
              "    </tr>\n",
              "    <tr>\n",
              "      <th>Int'l Plan</th>\n",
              "      <th></th>\n",
              "      <th></th>\n",
              "    </tr>\n",
              "  </thead>\n",
              "  <tbody>\n",
              "    <tr>\n",
              "      <th>no</th>\n",
              "      <td>0.934737</td>\n",
              "      <td>0.716356</td>\n",
              "    </tr>\n",
              "    <tr>\n",
              "      <th>yes</th>\n",
              "      <td>0.065263</td>\n",
              "      <td>0.283644</td>\n",
              "    </tr>\n",
              "  </tbody>\n",
              "</table>\n",
              "</div>"
            ],
            "text/plain": [
              "Churn?        False.     True.\n",
              "Int'l Plan                    \n",
              "no          0.934737  0.716356\n",
              "yes         0.065263  0.283644"
            ]
          },
          "metadata": {},
          "output_type": "display_data"
        },
        {
          "data": {
            "text/html": [
              "<div>\n",
              "<style scoped>\n",
              "    .dataframe tbody tr th:only-of-type {\n",
              "        vertical-align: middle;\n",
              "    }\n",
              "\n",
              "    .dataframe tbody tr th {\n",
              "        vertical-align: top;\n",
              "    }\n",
              "\n",
              "    .dataframe thead th {\n",
              "        text-align: right;\n",
              "    }\n",
              "</style>\n",
              "<table border=\"1\" class=\"dataframe\">\n",
              "  <thead>\n",
              "    <tr style=\"text-align: right;\">\n",
              "      <th>Churn?</th>\n",
              "      <th>False.</th>\n",
              "      <th>True.</th>\n",
              "    </tr>\n",
              "    <tr>\n",
              "      <th>VMail Plan</th>\n",
              "      <th></th>\n",
              "      <th></th>\n",
              "    </tr>\n",
              "  </thead>\n",
              "  <tbody>\n",
              "    <tr>\n",
              "      <th>no</th>\n",
              "      <td>0.704561</td>\n",
              "      <td>0.834369</td>\n",
              "    </tr>\n",
              "    <tr>\n",
              "      <th>yes</th>\n",
              "      <td>0.295439</td>\n",
              "      <td>0.165631</td>\n",
              "    </tr>\n",
              "  </tbody>\n",
              "</table>\n",
              "</div>"
            ],
            "text/plain": [
              "Churn?        False.     True.\n",
              "VMail Plan                    \n",
              "no          0.704561  0.834369\n",
              "yes         0.295439  0.165631"
            ]
          },
          "metadata": {},
          "output_type": "display_data"
        },
        {
          "name": "stdout",
          "output_type": "stream",
          "text": [
            "Account Length\n"
          ]
        },
        {
          "data": {
            "image/png": "[encoded data removed]",
            "text/plain": [
              "<Figure size 432x288 with 2 Axes>"
            ]
          },
          "metadata": {
            "needs_background": "light"
          },
          "output_type": "display_data"
        },
        {
          "name": "stdout",
          "output_type": "stream",
          "text": [
            "Area Code\n"
          ]
        },
        {
          "data": {
            "image/png": "[encoded data removed]",
            "text/plain": [
              "<Figure size 432x288 with 2 Axes>"
            ]
          },
          "metadata": {
            "needs_background": "light"
          },
          "output_type": "display_data"
        },
        {
          "name": "stdout",
          "output_type": "stream",
          "text": [
            "VMail Message\n"
          ]
        },
        {
          "data": {
            "image/png": "[encoded data removed]",
            "text/plain": [
              "<Figure size 432x288 with 2 Axes>"
            ]
          },
          "metadata": {
            "needs_background": "light"
          },
          "output_type": "display_data"
        },
        {
          "name": "stdout",
          "output_type": "stream",
          "text": [
            "Day Mins\n"
          ]
        },
        {
          "data": {
            "image/png": "[encoded data removed]",
            "text/plain": [
              "<Figure size 432x288 with 2 Axes>"
            ]
          },
          "metadata": {
            "needs_background": "light"
          },
          "output_type": "display_data"
        },
        {
          "name": "stdout",
          "output_type": "stream",
          "text": [
            "Day Calls\n"
          ]
        },
        {
          "data": {
            "image/png": "[encoded data removed]",
            "text/plain": [
              "<Figure size 432x288 with 2 Axes>"
            ]
          },
          "metadata": {
            "needs_background": "light"
          },
          "output_type": "display_data"
        },
        {
          "name": "stdout",
          "output_type": "stream",
          "text": [
            "Day Charge\n"
          ]
        },
        {
          "data": {
            "image/png": "[encoded data removed]",
            "text/plain": [
              "<Figure size 432x288 with 2 Axes>"
            ]
          },
          "metadata": {
            "needs_background": "light"
          },
          "output_type": "display_data"
        },
        {
          "name": "stdout",
          "output_type": "stream",
          "text": [
            "Eve Mins\n"
          ]
        },
        {
          "data": {
            "image/png": "[encoded data removed]",
            "text/plain": [
              "<Figure size 432x288 with 2 Axes>"
            ]
          },
          "metadata": {
            "needs_background": "light"
          },
          "output_type": "display_data"
        },
        {
          "name": "stdout",
          "output_type": "stream",
          "text": [
            "Eve Calls\n"
          ]
        },
        {
          "data": {
            "image/png": "[encoded data removed]",
            "text/plain": [
              "<Figure size 432x288 with 2 Axes>"
            ]
          },
          "metadata": {
            "needs_background": "light"
          },
          "output_type": "display_data"
        },
        {
          "name": "stdout",
          "output_type": "stream",
          "text": [
            "Eve Charge\n"
          ]
        },
        {
          "data": {
            "image/png": "[encoded data removed]",
            "text/plain": [
              "<Figure size 432x288 with 2 Axes>"
            ]
          },
          "metadata": {
            "needs_background": "light"
          },
          "output_type": "display_data"
        },
        {
          "name": "stdout",
          "output_type": "stream",
          "text": [
            "Night Mins\n"
          ]
        },
        {
          "data": {
            "image/png": "[encoded data removed]",
            "text/plain": [
              "<Figure size 432x288 with 2 Axes>"
            ]
          },
          "metadata": {
            "needs_background": "light"
          },
          "output_type": "display_data"
        },
        {
          "name": "stdout",
          "output_type": "stream",
          "text": [
            "Night Calls\n"
          ]
        },
        {
          "data": {
            "image/png": "[encoded data removed]",
            "text/plain": [
              "<Figure size 432x288 with 2 Axes>"
            ]
          },
          "metadata": {
            "needs_background": "light"
          },
          "output_type": "display_data"
        },
        {
          "name": "stdout",
          "output_type": "stream",
          "text": [
            "Night Charge\n"
          ]
        },
        {
          "data": {
            "image/png": "[encoded data removed]",
            "text/plain": [
              "<Figure size 432x288 with 2 Axes>"
            ]
          },
          "metadata": {
            "needs_background": "light"
          },
          "output_type": "display_data"
        },
        {
          "name": "stdout",
          "output_type": "stream",
          "text": [
            "Intl Mins\n"
          ]
        },
        {
          "data": {
            "image/png": "[encoded data removed]",
            "text/plain": [
              "<Figure size 432x288 with 2 Axes>"
            ]
          },
          "metadata": {
            "needs_background": "light"
          },
          "output_type": "display_data"
        },
        {
          "name": "stdout",
          "output_type": "stream",
          "text": [
            "Intl Calls\n"
          ]
        },
        {
          "data": {
            "image/png": "[encoded data removed]",
            "text/plain": [
              "<Figure size 432x288 with 2 Axes>"
            ]
          },
          "metadata": {
            "needs_background": "light"
          },
          "output_type": "display_data"
        },
        {
          "name": "stdout",
          "output_type": "stream",
          "text": [
            "Intl Charge\n"
          ]
        },
        {
          "data": {
            "image/png": "[encoded data removed]",
            "text/plain": [
              "<Figure size 432x288 with 2 Axes>"
            ]
          },
          "metadata": {
            "needs_background": "light"
          },
          "output_type": "display_data"
        },
        {
          "name": "stdout",
          "output_type": "stream",
          "text": [
            "CustServ Calls\n"
          ]
        },
        {
          "data": {
            "image/png": "[encoded data removed]",
            "text/plain": [
              "<Figure size 432x288 with 2 Axes>"
            ]
          },
          "metadata": {
            "needs_background": "light"
          },
          "output_type": "display_data"
        }
      ],
      "source": [
        "for column in churn.select_dtypes(include=['object']).columns:\n",
        "    if column != 'Churn?':\n",
        "        display(pd.crosstab(\n",
        "            index=churn[column], columns=churn['Churn?'], normalize='columns'))\n",
        "\n",
        "for column in churn.select_dtypes(exclude=['object']).columns:\n",
        "    print(column)\n",
        "    hist = churn[[column, 'Churn?']].hist(by='Churn?', bins=30)\n",
        "    plt.show()"
      ]
    },
    {
      "cell_type": "markdown",
      "metadata": {
        "id": "GcNaFgGmH2qN"
      },
      "source": [
        "Depending on your analysis, your solution might show different results, but you should see that churners appear:\n",
        "* Fairly evenly distributed geographically\n",
        "* More likely to have an international plan\n",
        "* Less likely to have a voicemail plan\n",
        "* Exhibit some bimodality in daily minutes (either higher or lower than the average for non-churners)\n",
        "* Larger number of customer service calls (which makes sense as we'd expect customers who experience lots of problems may be more likely to churn)\n",
        "\n",
        "In addition, we see that churners take on very similar distributions for features like`Day Mins`and`Day Charge`.  \n",
        "\n",
        "That's not surprising; you would expect minutes spent talking to correlate with charges."
      ]
    },
    {
      "cell_type": "markdown",
      "metadata": {
        "id": "qt8K4CIbH2qO"
      },
      "source": [
        "### Exercise 2\n",
        "\n",
        "Examine the pairwise relationships between attributes to see how they are correlated. Use the pandas functions [corr()](https://pandas.pydata.org/pandas-docs/stable/generated/pandas.DataFrame.corr.html) and [scatter_matrix()](https://pandas.pydata.org/pandas-docs/stable/generated/pandas.plotting.scatter_matrix.html) pandas functions to achieve this. \n",
        "\n",
        "Enter your solution in the cell below. "
      ]
    },
    {
      "cell_type": "code",
      "execution_count": null,
      "metadata": {
        "id": "Vp7qSvhuH2qO",
        "outputId": "c02ac96d-9f45-4f1e-bcb4-b1aaf9e43fcc"
      },
      "outputs": [
        {
          "data": {
            "text/plain": [
              "<AxesSubplot:>"
            ]
          },
          "execution_count": 12,
          "metadata": {},
          "output_type": "execute_result"
        },
        {
          "data": {
            "image/png": "[encoded data removed]",
            "text/plain": [
              "<Figure size 432x288 with 2 Axes>"
            ]
          },
          "metadata": {
            "needs_background": "light"
          },
          "output_type": "display_data"
        }
      ],
      "source": [
        "\n",
        "import seaborn as sns\n",
        "correlation_matrix = churn.corr()\n",
        "sns.heatmap(data=correlation_matrix, annot=True)\n"
      ]
    },
    {
      "cell_type": "markdown",
      "metadata": {
        "id": "Yoq_N2erH2qR"
      },
      "source": [
        "You should see several features that essentially have 100 percent correlation with one another.  Including these feature pairs in some machine learning algorithms can create catastrophic problems, while in others it will only introduce minor redundancy and bias."
      ]
    },
    {
      "cell_type": "markdown",
      "metadata": {
        "id": "O9sDpmaIH2qS"
      },
      "source": [
        "In preparation for model training, first remove the columns that observed as useless for our purposes. \n",
        "\n",
        "Remove the`Phone`and`Area Code`attributes:"
      ]
    },
    {
      "cell_type": "code",
      "execution_count": null,
      "metadata": {
        "id": "_SXFdfLKH2qS"
      },
      "outputs": [],
      "source": [
        "churn = churn.drop(['Phone', 'Area Code'], axis=1)"
      ]
    },
    {
      "cell_type": "markdown",
      "metadata": {
        "id": "NVljS-1tH2qT"
      },
      "source": [
        "Next, remove one feature from each of the highly correlated pairs: \n",
        "\n",
        "* `Day Charge` from the pair with `Day Mins`\n",
        "* `Eve Charge` from the pair with `Eve Mins`\n",
        "* `Night Charge` from the pair with `Night Mins`\n",
        "* `Intl Charge` from the pair with `Intl Mins`"
      ]
    },
    {
      "cell_type": "code",
      "execution_count": null,
      "metadata": {
        "id": "RIxFivHZH2qT"
      },
      "outputs": [],
      "source": [
        "churn = churn.drop(['Day Charge', 'Eve Charge',\n",
        "                    'Night Charge', 'Intl Charge'], axis=1)"
      ]
    },
    {
      "cell_type": "markdown",
      "metadata": {
        "id": "D0s3Q2ogH2qT"
      },
      "source": [
        "Now that we have done all of the changes to the data, let's have a last look into how the data looks like before moving to training. "
      ]
    },
    {
      "cell_type": "code",
      "execution_count": null,
      "metadata": {
        "id": "OcVRAX4tH2qU",
        "outputId": "0301ffec-9c1e-4f35-d550-4804b4f7ee3f"
      },
      "outputs": [
        {
          "data": {
            "text/html": [
              "<div>\n",
              "<style scoped>\n",
              "    .dataframe tbody tr th:only-of-type {\n",
              "        vertical-align: middle;\n",
              "    }\n",
              "\n",
              "    .dataframe tbody tr th {\n",
              "        vertical-align: top;\n",
              "    }\n",
              "\n",
              "    .dataframe thead th {\n",
              "        text-align: right;\n",
              "    }\n",
              "</style>\n",
              "<table border=\"1\" class=\"dataframe\">\n",
              "  <thead>\n",
              "    <tr style=\"text-align: right;\">\n",
              "      <th></th>\n",
              "      <th>State</th>\n",
              "      <th>Account Length</th>\n",
              "      <th>Int'l Plan</th>\n",
              "      <th>VMail Plan</th>\n",
              "      <th>VMail Message</th>\n",
              "      <th>Day Mins</th>\n",
              "      <th>Day Calls</th>\n",
              "      <th>Eve Mins</th>\n",
              "      <th>Eve Calls</th>\n",
              "      <th>Night Mins</th>\n",
              "      <th>Night Calls</th>\n",
              "      <th>Intl Mins</th>\n",
              "      <th>Intl Calls</th>\n",
              "      <th>CustServ Calls</th>\n",
              "      <th>Churn?</th>\n",
              "    </tr>\n",
              "  </thead>\n",
              "  <tbody>\n",
              "    <tr>\n",
              "      <th>0</th>\n",
              "      <td>KS</td>\n",
              "      <td>128</td>\n",
              "      <td>no</td>\n",
              "      <td>yes</td>\n",
              "      <td>25</td>\n",
              "      <td>265.1</td>\n",
              "      <td>110</td>\n",
              "      <td>197.4</td>\n",
              "      <td>99</td>\n",
              "      <td>244.7</td>\n",
              "      <td>91</td>\n",
              "      <td>10.0</td>\n",
              "      <td>3</td>\n",
              "      <td>1</td>\n",
              "      <td>False.</td>\n",
              "    </tr>\n",
              "    <tr>\n",
              "      <th>1</th>\n",
              "      <td>OH</td>\n",
              "      <td>107</td>\n",
              "      <td>no</td>\n",
              "      <td>yes</td>\n",
              "      <td>26</td>\n",
              "      <td>161.6</td>\n",
              "      <td>123</td>\n",
              "      <td>195.5</td>\n",
              "      <td>103</td>\n",
              "      <td>254.4</td>\n",
              "      <td>103</td>\n",
              "      <td>13.7</td>\n",
              "      <td>3</td>\n",
              "      <td>1</td>\n",
              "      <td>False.</td>\n",
              "    </tr>\n",
              "    <tr>\n",
              "      <th>2</th>\n",
              "      <td>NJ</td>\n",
              "      <td>137</td>\n",
              "      <td>no</td>\n",
              "      <td>no</td>\n",
              "      <td>0</td>\n",
              "      <td>243.4</td>\n",
              "      <td>114</td>\n",
              "      <td>121.2</td>\n",
              "      <td>110</td>\n",
              "      <td>162.6</td>\n",
              "      <td>104</td>\n",
              "      <td>12.2</td>\n",
              "      <td>5</td>\n",
              "      <td>0</td>\n",
              "      <td>False.</td>\n",
              "    </tr>\n",
              "    <tr>\n",
              "      <th>3</th>\n",
              "      <td>OH</td>\n",
              "      <td>84</td>\n",
              "      <td>yes</td>\n",
              "      <td>no</td>\n",
              "      <td>0</td>\n",
              "      <td>299.4</td>\n",
              "      <td>71</td>\n",
              "      <td>61.9</td>\n",
              "      <td>88</td>\n",
              "      <td>196.9</td>\n",
              "      <td>89</td>\n",
              "      <td>6.6</td>\n",
              "      <td>7</td>\n",
              "      <td>2</td>\n",
              "      <td>False.</td>\n",
              "    </tr>\n",
              "    <tr>\n",
              "      <th>4</th>\n",
              "      <td>OK</td>\n",
              "      <td>75</td>\n",
              "      <td>yes</td>\n",
              "      <td>no</td>\n",
              "      <td>0</td>\n",
              "      <td>166.7</td>\n",
              "      <td>113</td>\n",
              "      <td>148.3</td>\n",
              "      <td>122</td>\n",
              "      <td>186.9</td>\n",
              "      <td>121</td>\n",
              "      <td>10.1</td>\n",
              "      <td>3</td>\n",
              "      <td>3</td>\n",
              "      <td>False.</td>\n",
              "    </tr>\n",
              "  </tbody>\n",
              "</table>\n",
              "</div>"
            ],
            "text/plain": [
              "  State  Account Length Int'l Plan VMail Plan  VMail Message  Day Mins  \\\n",
              "0    KS             128         no        yes             25     265.1   \n",
              "1    OH             107         no        yes             26     161.6   \n",
              "2    NJ             137         no         no              0     243.4   \n",
              "3    OH              84        yes         no              0     299.4   \n",
              "4    OK              75        yes         no              0     166.7   \n",
              "\n",
              "   Day Calls  Eve Mins  Eve Calls  Night Mins  Night Calls  Intl Mins  \\\n",
              "0        110     197.4         99       244.7           91       10.0   \n",
              "1        123     195.5        103       254.4          103       13.7   \n",
              "2        114     121.2        110       162.6          104       12.2   \n",
              "3         71      61.9         88       196.9           89        6.6   \n",
              "4        113     148.3        122       186.9          121       10.1   \n",
              "\n",
              "   Intl Calls  CustServ Calls  Churn?  \n",
              "0           3               1  False.  \n",
              "1           3               1  False.  \n",
              "2           5               0  False.  \n",
              "3           7               2  False.  \n",
              "4           3               3  False.  "
            ]
          },
          "execution_count": 15,
          "metadata": {},
          "output_type": "execute_result"
        }
      ],
      "source": [
        "churn.head()"
      ]
    },
    {
      "cell_type": "markdown",
      "metadata": {
        "id": "1WQZm065H2qU"
      },
      "source": [
        "## Train and evaluate a model"
      ]
    },
    {
      "cell_type": "markdown",
      "metadata": {
        "id": "0eBdcFUtH2qU"
      },
      "source": [
        "Now, determine which algorithm to use.  As mentioned above, there appear to be some variables where both high and low (but not intermediate) values are predictive of churn.  In order to accommodate this in an algorithm like linear regression, we'd need to generate polynomial (or *bucketed*) terms.  \n",
        "\n",
        "Instead, let's attempt to model this problem using gradient boosted trees.  \n",
        "\n",
        "Amazon SageMaker provides an XGBoost container that we can use to train in a managed, distributed setting, and then host as a real-time prediction endpoint.  XGBoost uses gradient boosted trees that naturally account for non-linear relationships between features and the target variable, as well as accommodating complex interactions between features.\n",
        "\n",
        "Amazon SageMaker XGBoost can train on data in either a CSV or LibSVM format.  For this example, we'll stick with CSV.  It should:\n",
        "* Have the predictor variable in the first column\n",
        "* Not have a header row\n",
        "\n",
        "First, convert the categorical features into numeric features."
      ]
    },
    {
      "cell_type": "code",
      "execution_count": null,
      "metadata": {
        "id": "1Lyn3MciH2qX"
      },
      "outputs": [],
      "source": [
        "model_data = pd.get_dummies(churn)\n",
        "model_data = pd.concat([model_data['Churn?_True.'], model_data.drop(\n",
        "    ['Churn?_False.', 'Churn?_True.'], axis=1)], axis=1)"
      ]
    },
    {
      "cell_type": "markdown",
      "metadata": {
        "id": "j2SQpfOUH2qY"
      },
      "source": [
        "Now split the data into training, validation, and test sets.  This will help prevent overfitting the model and allow you to test the model's accuracy on data it hasn't already seen."
      ]
    },
    {
      "cell_type": "code",
      "execution_count": null,
      "metadata": {
        "id": "4Iw-80VcH2qZ"
      },
      "outputs": [],
      "source": [
        "train_data, validation_data, test_data = np.split(model_data.sample(\n",
        "    frac=1, random_state=1729), [int(0.7 * len(model_data)), int(0.9 * len(model_data))])\n",
        "train_data.to_csv('train.csv', header=False, index=False)\n",
        "validation_data.to_csv('validation.csv', header=False, index=False)"
      ]
    },
    {
      "cell_type": "markdown",
      "metadata": {
        "id": "hojCVZ_RH2qZ"
      },
      "source": [
        "Upload these files to Amazon S3, where SageMaker expects them.\n",
        "\n",
        "boto is the standard Python library used to invoke AWS API. The same S3 bucket and prefix will be used for training and model data.  \n",
        "\n",
        "This should be within the same region as the Notebook Instance, training, and hosting."
      ]
    },
    {
      "cell_type": "code",
      "execution_count": null,
      "metadata": {
        "id": "uQds8LUhH2qZ"
      },
      "outputs": [],
      "source": [
        "import os\n",
        "import boto3\n",
        "import sagemaker\n",
        "\n",
        "sess = sagemaker.Session()\n",
        "\n",
        "bucket = sess.default_bucket()\n",
        "prefix = 'bootcamp-xgboost-churn'\n",
        "\n",
        "boto3.Session().resource('s3').Bucket(bucket).Object(\n",
        "    os.path.join(prefix, 'train/train.csv')).upload_file('train.csv')\n",
        "boto3.Session().resource('s3').Bucket(bucket).Object(os.path.join(\n",
        "    prefix, 'validation/validation.csv')).upload_file('validation.csv')"
      ]
    },
    {
      "cell_type": "markdown",
      "metadata": {
        "id": "HwTkk6_7H2qa"
      },
      "source": [
        "## Train\n",
        "\n",
        "Next, specify the locations of the XGBoost algorithm containers.\n",
        "\n",
        "Amazon SageMaker algorithms are packaged as Docker images. This gives you the flexibility to use almost any algorithm code with Amazon SageMaker, regardless of implementation language, dependent libraries, frameworks, and so on."
      ]
    },
    {
      "cell_type": "code",
      "execution_count": null,
      "metadata": {
        "id": "yxse5RL-H2qb",
        "outputId": "b514b373-cf33-49ae-a989-cca4846a695b"
      },
      "outputs": [
        {
          "data": {
            "text/plain": [
              "'246618743249.dkr.ecr.us-west-2.amazonaws.com/sagemaker-xgboost:1.0-1-cpu-py3'"
            ]
          },
          "metadata": {},
          "output_type": "display_data"
        }
      ],
      "source": [
        "# Set the IAM Role\n",
        "from sagemaker import get_execution_role\n",
        "\n",
        "role = get_execution_role()\n",
        "# Get the XGBoost docker image\n",
        "from sagemaker import image_uris\n",
        "container = image_uris.retrieve('xgboost', boto3.Session().region_name, '1.0-1')\n",
        "display(container)"
      ]
    },
    {
      "cell_type": "markdown",
      "metadata": {
        "id": "zoG5cXjTH2qb"
      },
      "source": [
        "[SageMaker Python SDK](https://sagemaker.readthedocs.io/en/latest/) provides these high-level abstractions for working with Amazon SageMaker:\n",
        "\n",
        "* Estimators: Encapsulates training on SageMaker.\n",
        "* Models: Encapsulates built ML models.\n",
        "* Predictors: Provides real-time inference and transformation using Python data-types against a SageMaker endpoint.\n",
        "* Session: Provides a collection of methods for working with SageMaker resources.\n",
        "\n",
        "Start by creating the [xgboost Estimator](https://sagemaker.readthedocs.io/en/latest/estimators.html). The mandatory paramters are: image_name, role, session, instance_type, and instance_count. \n",
        "\n",
        "For this training job, use:\n",
        "\n",
        "* `image_uri = container`\n",
        "* `role=role`\n",
        "* `sagemaker_session = sess`\n",
        "* `instance_count = 1`\n",
        "* `instance_type = ml.m4.xlarge` \n",
        "\n",
        "### Exercise 3\n",
        "\n",
        "Finish the Estimator definition. "
      ]
    },
    {
      "cell_type": "code",
      "execution_count": null,
      "metadata": {
        "id": "KyGbOZkwH2qb"
      },
      "outputs": [],
      "source": [
        "# Creating the SageMaker Estimator object\n",
        "import sagemaker\n",
        "sess = sagemaker.Session()\n",
        "\n",
        "xgb = sagemaker.estimator.Estimator(container,\n",
        "                                    role,\n",
        "                                    instance_count=1,\n",
        "                                    instance_type='ml.m4.xlarge',\n",
        "                                    output_path='s3://{}/{}/output'.format(\n",
        "                                        bucket, prefix),\n",
        "                                    sagemaker_session=sess)"
      ]
    },
    {
      "cell_type": "markdown",
      "metadata": {
        "id": "8ouMcHFWH2qc"
      },
      "source": [
        "An ML algorithm is configured and tuned based on its hyperparameters, which change the way the algorithm works.\n",
        "\n",
        "The XGBoost hyperparamaters are described in the [XGBoost documentation](https://xgboost.readthedocs.io/en/latest/parameter.html)\n",
        "\n",
        "For this example, the required hyperparameters for XGBoost are:\n",
        "\n",
        "* `objective` - Specifies the learning task and the corresponding learning objective. please use **binary:logistic** for binary classification task.  \n",
        "* `num_round` - controls the number of rounds. Each round is trained using the output from the previous one. More rounds should produce a better fit on the training data, but can be computationally expensive or lead to overfitting.\n",
        "\n",
        "A few other key hyperparameters are:\n",
        "\n",
        "* `max_depth` controls how deep each tree within the algorithm can be built. Deeper trees can lead to better fit, but are more computationally expensive and can lead to overfitting. There is typically some trade-off in model performance that needs to be explored between a large number of shallow trees and a smaller number of deeper trees.\n",
        "* `subsample` controls sampling of the training data. This technique can help reduce overfitting, but setting it too low can also starve the model of data.\n",
        "* `eta` controls how aggressive each round of boosting is. Larger values lead to more conservative boosting.\n",
        "* `gamma` controls how aggressively trees are grown. Larger values lead to more conservative models.\n",
        "\n",
        "### Exercise 4\n",
        "\n",
        "Use xgb.set_hyperparameters to set the hyperparameters."
      ]
    },
    {
      "cell_type": "code",
      "execution_count": null,
      "metadata": {
        "id": "aBGRjSBoH2qc"
      },
      "outputs": [],
      "source": [
        "# Set the hyperparameters\n",
        "xgb.set_hyperparameters(max_depth=5,\n",
        "                        eta=0.2,\n",
        "                        gamma=4,\n",
        "                        min_child_weight=6,\n",
        "                        subsample=0.8,\n",
        "                        silent=0,\n",
        "                        objective='binary:logistic',\n",
        "                        num_round=100)"
      ]
    },
    {
      "cell_type": "markdown",
      "metadata": {
        "id": "q-8erQYjH2qc"
      },
      "source": [
        "Then, because you're training with the CSV file format, create s3_inputs the training function can use as a pointer to the files in Amazon S3."
      ]
    },
    {
      "cell_type": "code",
      "execution_count": null,
      "metadata": {
        "id": "R44StUFPH2qc"
      },
      "outputs": [],
      "source": [
        "# Configuring the data inputs\n",
        "s3_input_train = sagemaker.inputs.TrainingInput(\n",
        "    s3_data='s3://{}/{}/train'.format(bucket, prefix), content_type='csv')\n",
        "s3_input_validation = sagemaker.inputs.TrainingInput(\n",
        "    s3_data='s3://{}/{}/validation/'.format(bucket, prefix), content_type='csv')"
      ]
    },
    {
      "cell_type": "markdown",
      "metadata": {
        "id": "GoanXqE4H2qd"
      },
      "source": [
        "Finally, you are ready to train. \n",
        "\n",
        "To train, use the fit() function."
      ]
    },
    {
      "cell_type": "code",
      "execution_count": null,
      "metadata": {
        "id": "i1e8k4hYH2qd",
        "outputId": "1f3361ab-d15e-4f92-daf9-d6714dab5df0"
      },
      "outputs": [
        {
          "name": "stdout",
          "output_type": "stream",
          "text": [
            "2021-12-22 11:18:34 Starting - Starting the training job...\n",
            "2021-12-22 11:18:58 Starting - Launching requested ML instancesProfilerReport-1640171914: InProgress\n",
            "......\n",
            "2021-12-22 11:19:58 Starting - Preparing the instances for training.........\n",
            "2021-12-22 11:21:27 Downloading - Downloading input data...\n",
            "2021-12-22 11:21:59 Training - Downloading the training image...\n",
            "2021-12-22 11:22:31 Uploading - Uploading generated training model.\u001b[34mINFO:sagemaker-containers:Imported framework sagemaker_xgboost_container.training\u001b[0m\n",
            "\u001b[34mINFO:sagemaker-containers:Failed to parse hyperparameter objective value binary:logistic to Json.\u001b[0m\n",
            "\u001b[34mReturning the value itself\u001b[0m\n",
            "\u001b[34mINFO:sagemaker-containers:No GPUs detected (normal if no gpus installed)\u001b[0m\n",
            "\u001b[34mINFO:sagemaker_xgboost_container.training:Running XGBoost Sagemaker in algorithm mode\u001b[0m\n",
            "\u001b[34mINFO:root:Determined delimiter of CSV input is ','\u001b[0m\n",
            "\u001b[34mINFO:root:Determined delimiter of CSV input is ','\u001b[0m\n",
            "\u001b[34mINFO:root:Determined delimiter of CSV input is ','\u001b[0m\n",
            "\u001b[34m[11:22:28] 2333x66 matrix with 153978 entries loaded from /opt/ml/input/data/train?format=csv&label_column=0&delimiter=,\u001b[0m\n",
            "\u001b[34mINFO:root:Determined delimiter of CSV input is ','\u001b[0m\n",
            "\u001b[34m[11:22:28] 666x66 matrix with 43956 entries loaded from /opt/ml/input/data/validation?format=csv&label_column=0&delimiter=,\u001b[0m\n",
            "\u001b[34mINFO:root:Single node training.\u001b[0m\n",
            "\u001b[34mINFO:root:Train matrix has 2333 rows\u001b[0m\n",
            "\u001b[34mINFO:root:Validation matrix has 666 rows\u001b[0m\n",
            "\u001b[34m[11:22:28] WARNING: /workspace/src/learner.cc:328: \u001b[0m\n",
            "\u001b[34mParameters: { num_round, silent } might not be used.\n",
            "  This may not be accurate due to some parameters are only used in language bindings but\n",
            "  passed down to XGBoost core.  Or some parameters are not used but slip through this\n",
            "  verification. Please open an issue if you find above cases.\u001b[0m\n",
            "\u001b[34m[0]#011train-error:0.07715#011validation-error:0.09910\u001b[0m\n",
            "\u001b[34m[1]#011train-error:0.05058#011validation-error:0.08108\u001b[0m\n",
            "\u001b[34m[2]#011train-error:0.04886#011validation-error:0.07508\u001b[0m\n",
            "\u001b[34m[3]#011train-error:0.04672#011validation-error:0.07207\u001b[0m\n",
            "\u001b[34m[4]#011train-error:0.04801#011validation-error:0.07357\u001b[0m\n",
            "\u001b[34m[5]#011train-error:0.04672#011validation-error:0.07057\u001b[0m\n",
            "\u001b[34m[6]#011train-error:0.04544#011validation-error:0.07357\u001b[0m\n",
            "\u001b[34m[7]#011train-error:0.04372#011validation-error:0.06907\u001b[0m\n",
            "\u001b[34m[8]#011train-error:0.04501#011validation-error:0.06907\u001b[0m\n",
            "\u001b[34m[9]#011train-error:0.04244#011validation-error:0.06607\u001b[0m\n",
            "\u001b[34m[10]#011train-error:0.04029#011validation-error:0.06456\u001b[0m\n",
            "\u001b[34m[11]#011train-error:0.03901#011validation-error:0.06757\u001b[0m\n",
            "\u001b[34m[12]#011train-error:0.03858#011validation-error:0.06456\u001b[0m\n",
            "\u001b[34m[13]#011train-error:0.03772#011validation-error:0.06456\u001b[0m\n",
            "\u001b[34m[14]#011train-error:0.03772#011validation-error:0.06607\u001b[0m\n",
            "\u001b[34m[15]#011train-error:0.03943#011validation-error:0.06757\u001b[0m\n",
            "\u001b[34m[16]#011train-error:0.03858#011validation-error:0.06306\u001b[0m\n",
            "\u001b[34m[17]#011train-error:0.03772#011validation-error:0.06456\u001b[0m\n",
            "\u001b[34m[18]#011train-error:0.03943#011validation-error:0.06306\u001b[0m\n",
            "\u001b[34m[19]#011train-error:0.03986#011validation-error:0.06006\u001b[0m\n",
            "\u001b[34m[20]#011train-error:0.03943#011validation-error:0.06306\u001b[0m\n",
            "\u001b[34m[21]#011train-error:0.03858#011validation-error:0.06306\u001b[0m\n",
            "\u001b[34m[22]#011train-error:0.03815#011validation-error:0.06607\u001b[0m\n",
            "\u001b[34m[23]#011train-error:0.03686#011validation-error:0.06757\u001b[0m\n",
            "\u001b[34m[24]#011train-error:0.03601#011validation-error:0.06757\u001b[0m\n",
            "\u001b[34m[25]#011train-error:0.03429#011validation-error:0.06757\u001b[0m\n",
            "\u001b[34m[26]#011train-error:0.03386#011validation-error:0.06907\u001b[0m\n",
            "\u001b[34m[27]#011train-error:0.03386#011validation-error:0.06907\u001b[0m\n",
            "\u001b[34m[28]#011train-error:0.03386#011validation-error:0.06757\u001b[0m\n",
            "\u001b[34m[29]#011train-error:0.03386#011validation-error:0.07207\u001b[0m\n",
            "\u001b[34m[30]#011train-error:0.03386#011validation-error:0.07057\u001b[0m\n",
            "\u001b[34m[31]#011train-error:0.03429#011validation-error:0.07207\u001b[0m\n",
            "\u001b[34m[32]#011train-error:0.03472#011validation-error:0.07057\u001b[0m\n",
            "\u001b[34m[33]#011train-error:0.03472#011validation-error:0.06907\u001b[0m\n",
            "\u001b[34m[34]#011train-error:0.03300#011validation-error:0.06907\u001b[0m\n",
            "\u001b[34m[35]#011train-error:0.03386#011validation-error:0.06907\u001b[0m\n",
            "\u001b[34m[36]#011train-error:0.03386#011validation-error:0.06907\u001b[0m\n",
            "\u001b[34m[37]#011train-error:0.03300#011validation-error:0.06757\u001b[0m\n",
            "\u001b[34m[38]#011train-error:0.03343#011validation-error:0.06757\u001b[0m\n",
            "\u001b[34m[39]#011train-error:0.03300#011validation-error:0.06757\u001b[0m\n",
            "\u001b[34m[40]#011train-error:0.03172#011validation-error:0.06907\u001b[0m\n",
            "\u001b[34m[41]#011train-error:0.03172#011validation-error:0.06907\u001b[0m\n",
            "\u001b[34m[42]#011train-error:0.03086#011validation-error:0.06907\u001b[0m\n",
            "\u001b[34m[43]#011train-error:0.03129#011validation-error:0.06907\u001b[0m\n",
            "\u001b[34m[44]#011train-error:0.03086#011validation-error:0.06757\u001b[0m\n",
            "\u001b[34m[45]#011train-error:0.03129#011validation-error:0.06757\u001b[0m\n",
            "\u001b[34m[46]#011train-error:0.03086#011validation-error:0.06607\u001b[0m\n",
            "\u001b[34m[47]#011train-error:0.03086#011validation-error:0.06607\u001b[0m\n",
            "\u001b[34m[48]#011train-error:0.03043#011validation-error:0.06607\u001b[0m\n",
            "\u001b[34m[49]#011train-error:0.03000#011validation-error:0.06757\u001b[0m\n",
            "\u001b[34m[50]#011train-error:0.03000#011validation-error:0.06757\u001b[0m\n",
            "\u001b[34m[51]#011train-error:0.03000#011validation-error:0.06607\u001b[0m\n",
            "\u001b[34m[52]#011train-error:0.03000#011validation-error:0.06607\u001b[0m\n",
            "\u001b[34m[53]#011train-error:0.03000#011validation-error:0.06607\u001b[0m\n",
            "\u001b[34m[54]#011train-error:0.03000#011validation-error:0.06607\u001b[0m\n",
            "\u001b[34m[55]#011train-error:0.03043#011validation-error:0.06757\u001b[0m\n",
            "\u001b[34m[56]#011train-error:0.03043#011validation-error:0.06757\u001b[0m\n",
            "\u001b[34m[57]#011train-error:0.03043#011validation-error:0.06757\u001b[0m\n",
            "\u001b[34m[58]#011train-error:0.03043#011validation-error:0.06757\u001b[0m\n",
            "\u001b[34m[59]#011train-error:0.03043#011validation-error:0.06757\u001b[0m\n",
            "\u001b[34m[60]#011train-error:0.03043#011validation-error:0.06757\u001b[0m\n",
            "\u001b[34m[61]#011train-error:0.03043#011validation-error:0.06757\u001b[0m\n",
            "\u001b[34m[62]#011train-error:0.03043#011validation-error:0.06757\u001b[0m\n",
            "\u001b[34m[63]#011train-error:0.03043#011validation-error:0.06757\u001b[0m\n",
            "\u001b[34m[64]#011train-error:0.03043#011validation-error:0.06757\u001b[0m\n",
            "\u001b[34m[65]#011train-error:0.03043#011validation-error:0.06757\u001b[0m\n",
            "\u001b[34m[66]#011train-error:0.03043#011validation-error:0.06757\u001b[0m\n",
            "\u001b[34m[67]#011train-error:0.03043#011validation-error:0.06757\u001b[0m\n",
            "\u001b[34m[68]#011train-error:0.02915#011validation-error:0.06757\u001b[0m\n",
            "\u001b[34m[69]#011train-error:0.02915#011validation-error:0.06607\u001b[0m\n",
            "\u001b[34m[70]#011train-error:0.02915#011validation-error:0.06757\u001b[0m\n",
            "\u001b[34m[71]#011train-error:0.02872#011validation-error:0.06607\u001b[0m\n",
            "\u001b[34m[72]#011train-error:0.02915#011validation-error:0.06607\u001b[0m\n",
            "\u001b[34m[73]#011train-error:0.02915#011validation-error:0.06607\u001b[0m\n",
            "\u001b[34m[74]#011train-error:0.02915#011validation-error:0.06607\u001b[0m\n",
            "\u001b[34m[75]#011train-error:0.02915#011validation-error:0.06607\u001b[0m\n",
            "\u001b[34m[76]#011train-error:0.02915#011validation-error:0.06607\u001b[0m\n",
            "\u001b[34m[77]#011train-error:0.02915#011validation-error:0.06607\u001b[0m\n",
            "\u001b[34m[78]#011train-error:0.02958#011validation-error:0.06607\u001b[0m\n",
            "\u001b[34m[79]#011train-error:0.03000#011validation-error:0.06607\u001b[0m\n",
            "\u001b[34m[80]#011train-error:0.02958#011validation-error:0.06607\u001b[0m\n",
            "\u001b[34m[81]#011train-error:0.02829#011validation-error:0.06607\u001b[0m\n",
            "\u001b[34m[82]#011train-error:0.02829#011validation-error:0.06607\u001b[0m\n",
            "\u001b[34m[83]#011train-error:0.02829#011validation-error:0.06607\u001b[0m\n",
            "\u001b[34m[84]#011train-error:0.02786#011validation-error:0.06607\u001b[0m\n",
            "\u001b[34m[85]#011train-error:0.02786#011validation-error:0.06607\u001b[0m\n",
            "\u001b[34m[86]#011train-error:0.02786#011validation-error:0.06607\u001b[0m\n",
            "\u001b[34m[87]#011train-error:0.02786#011validation-error:0.06607\u001b[0m\n",
            "\u001b[34m[88]#011train-error:0.02829#011validation-error:0.06607\u001b[0m\n",
            "\u001b[34m[89]#011train-error:0.02829#011validation-error:0.06607\u001b[0m\n",
            "\u001b[34m[90]#011train-error:0.02786#011validation-error:0.06607\u001b[0m\n",
            "\u001b[34m[91]#011train-error:0.02786#011validation-error:0.06607\u001b[0m\n",
            "\u001b[34m[92]#011train-error:0.02829#011validation-error:0.06607\u001b[0m\n",
            "\u001b[34m[93]#011train-error:0.02786#011validation-error:0.06607\u001b[0m\n",
            "\u001b[34m[94]#011train-error:0.02786#011validation-error:0.06607\u001b[0m\n",
            "\u001b[34m[95]#011train-error:0.02786#011validation-error:0.06607\u001b[0m\n",
            "\u001b[34m[96]#011train-error:0.02829#011validation-error:0.06607\u001b[0m\n",
            "\u001b[34m[97]#011train-error:0.02829#011validation-error:0.06607\u001b[0m\n",
            "\u001b[34m[98]#011train-error:0.02829#011validation-error:0.06607\u001b[0m\n",
            "\u001b[34m[99]#011train-error:0.02829#011validation-error:0.06607\u001b[0m\n",
            "\n",
            "2021-12-22 11:22:59 Completed - Training job completed\n",
            "ProfilerReport-1640171914: NoIssuesFound\n",
            "Training seconds: 72\n",
            "Billable seconds: 72\n"
          ]
        }
      ],
      "source": [
        "# Training the model\n",
        "xgb.fit({'train': s3_input_train, 'validation': s3_input_validation})"
      ]
    },
    {
      "cell_type": "markdown",
      "metadata": {
        "id": "ssLzXgcQH2qd"
      },
      "source": [
        "## Host\n",
        "\n",
        "Now create a model and deploy it to a hosted endpoint using the deploy API of SageMaker [estimator](https://sagemaker.readthedocs.io/en/latest/estimators.html).  \n",
        "\n",
        "### Exercise 5 \n",
        "Configure `initial_instance_count = 1` , `instance_type = ml.m4.xlarge`, `serializer = CSVSerializer()`.\n",
        "You set the csv serializer for passing the`test_data` arrays to the model that will be behind the endpoint."
      ]
    },
    {
      "cell_type": "code",
      "execution_count": null,
      "metadata": {
        "id": "H2t5TGlnH2qd",
        "outputId": "dffcf491-66d3-49df-c0e2-4c10df3912d6"
      },
      "outputs": [
        {
          "name": "stdout",
          "output_type": "stream",
          "text": [
            "-------!"
          ]
        }
      ],
      "source": [
        "# Deploy the model\n",
        "Variant = 'AllTraffic'  # Configure the default deployment variant\n",
        "\n",
        "from sagemaker.predictor import CSVSerializer\n",
        "\n",
        "xgb_predictor = xgb.deploy(initial_instance_count=1,\n",
        "                           instance_type='ml.m4.xlarge',\n",
        "                          serializer=CSVSerializer())"
      ]
    },
    {
      "cell_type": "markdown",
      "metadata": {
        "id": "DMlhuh9zH2qe"
      },
      "source": [
        "### Evaluate\n",
        "\n",
        "Now make real-time predictions from your model by making an http POST request.  "
      ]
    },
    {
      "cell_type": "markdown",
      "metadata": {
        "id": "t_zsoO2uH2qe"
      },
      "source": [
        "Use a simple function to:\n",
        "\n",
        "1. Loop over your test dataset\n",
        "2. Split it into mini-batches of rows \n",
        "3. Convert those mini-batchs to CSV string payloads\n",
        "4. Retrieve mini-batch predictions by invoking the XGBoost endpoint\n",
        "5. Collect predictions and convert from the CSV output your model provides into a NumPy array"
      ]
    },
    {
      "cell_type": "code",
      "execution_count": null,
      "metadata": {
        "id": "olrEyYdEH2qe"
      },
      "outputs": [],
      "source": [
        "def predict(data, rows=500):\n",
        "    split_array = np.array_split(data, int(data.shape[0] / float(rows) + 1))\n",
        "    predictions = ''\n",
        "    for array in split_array:\n",
        "        predictions = ','.join(\n",
        "            [predictions, xgb_predictor.predict(array).decode('utf-8')])\n",
        "\n",
        "    return np.fromstring(predictions[1:], sep=',')\n",
        "\n",
        "\n",
        "predictions = predict(test_data.to_numpy()[:, 1:])"
      ]
    },
    {
      "cell_type": "markdown",
      "metadata": {
        "id": "wQEUCF6RH2qf"
      },
      "source": [
        "Assess the performance of your ML model by comparing actual values to predicted values.\n",
        "\n",
        "In this case, you will predict whether the customer churned (`1`) or not (`0`), which produces a simple confusion matrix."
      ]
    },
    {
      "cell_type": "code",
      "execution_count": null,
      "metadata": {
        "id": "bG8O-zD9H2qf",
        "outputId": "d3c1ce0d-7947-462f-d587-a119c82afdb0"
      },
      "outputs": [
        {
          "data": {
            "text/html": [
              "<div>\n",
              "<style scoped>\n",
              "    .dataframe tbody tr th:only-of-type {\n",
              "        vertical-align: middle;\n",
              "    }\n",
              "\n",
              "    .dataframe tbody tr th {\n",
              "        vertical-align: top;\n",
              "    }\n",
              "\n",
              "    .dataframe thead th {\n",
              "        text-align: right;\n",
              "    }\n",
              "</style>\n",
              "<table border=\"1\" class=\"dataframe\">\n",
              "  <thead>\n",
              "    <tr style=\"text-align: right;\">\n",
              "      <th>predictions</th>\n",
              "      <th>0.0</th>\n",
              "      <th>1.0</th>\n",
              "    </tr>\n",
              "    <tr>\n",
              "      <th>actual</th>\n",
              "      <th></th>\n",
              "      <th></th>\n",
              "    </tr>\n",
              "  </thead>\n",
              "  <tbody>\n",
              "    <tr>\n",
              "      <th>0</th>\n",
              "      <td>283</td>\n",
              "      <td>3</td>\n",
              "    </tr>\n",
              "    <tr>\n",
              "      <th>1</th>\n",
              "      <td>11</td>\n",
              "      <td>37</td>\n",
              "    </tr>\n",
              "  </tbody>\n",
              "</table>\n",
              "</div>"
            ],
            "text/plain": [
              "predictions  0.0  1.0\n",
              "actual               \n",
              "0            283    3\n",
              "1             11   37"
            ]
          },
          "execution_count": 27,
          "metadata": {},
          "output_type": "execute_result"
        }
      ],
      "source": [
        "pd.crosstab(index=test_data.iloc[:, 0], columns=np.round(\n",
        "    predictions), rownames=['actual'], colnames=['predictions'])"
      ]
    },
    {
      "cell_type": "markdown",
      "metadata": {
        "id": "AO4v3IInH2qf"
      },
      "source": [
        "_Note: Due to randomized elements of the algorithm, your results may differ slightly._\n",
        "\n",
        "Of the 48 churners, 39 were correcly predicted. (True positives.) Four were incorrectly predited; they ended up not churning. (False postives.) \n",
        "\n",
        "Another nine customers did end up churning when we predicted they would not.  (False negatives.)\n",
        "\n",
        "**Important:** Because of the`np.round()`function above, we are using a simple threshold (or cutoff) of 0.5.  \n",
        "\n",
        "Our predictions from `xgboost` come out as continuous values between 0 and 1 and are forced into the binary classes that we began with."
      ]
    },
    {
      "cell_type": "markdown",
      "metadata": {
        "id": "Cft9sBL6H2qh"
      },
      "source": [
        "## Automatically tune the model\n",
        "\n",
        "### Model hyperparameter tuning for XGBoost\n",
        "\n",
        "Automatic model tuning, or *hyperparameter tuning*, finds the best version of a model by running many jobs that test a range of hyperparameters on your dataset. \n",
        "\n",
        "You choose the tunable hyperparameters, a range of values for each, and an objective metric. Objective metrics are chosen from the metrics that the algorithm computes. \n",
        "\n",
        "Automatic model tuning searches the hyperparameters chosen to find the combination of values that result in the model that optimizes the objective metric.\n",
        "\n",
        "For more information about model tuning, see [Automatic Model Tuning](https://docs.aws.amazon.com/sagemaker/latest/dg/automatic-model-tuning.html).  "
      ]
    },
    {
      "cell_type": "markdown",
      "metadata": {
        "id": "w1INWVrWH2qh"
      },
      "source": [
        "### Exercise 6\n",
        "\n",
        "The HyperparameterTuner object takes the Estimator to obtain each job configuration information."
      ]
    },
    {
      "cell_type": "code",
      "execution_count": null,
      "metadata": {
        "id": "E-3xn-UqH2qh"
      },
      "outputs": [],
      "source": [
        "# Recreate the Estimator from above\n",
        "xgb = sagemaker.estimator.Estimator(container,\n",
        "                                    role,\n",
        "                                    instance_count=1,\n",
        "                                    instance_type='ml.m4.xlarge',\n",
        "                                    output_path='s3://{}/{}/output'.format(\n",
        "                                        bucket, prefix),\n",
        "                                    sagemaker_session=sess)"
      ]
    },
    {
      "cell_type": "markdown",
      "metadata": {
        "id": "_NdNJ8jaH2qh"
      },
      "source": [
        "For each tuning job, you can configure a set of static hyperparameters and range of tuneable hyperparameters.  \n",
        "\n",
        "Use the IntegerParameter, CategoricalParameter, and ContinuousParameter objects to assign values to the hyperparameter_ranges variable.  (This variable is a dictionary data type.)\n",
        "\n",
        "### Exercise 7\n",
        "\n",
        "Set the ranges for the job. "
      ]
    },
    {
      "cell_type": "code",
      "execution_count": null,
      "metadata": {
        "id": "G277ynSOH2qh"
      },
      "outputs": [],
      "source": [
        "from sagemaker.tuner import IntegerParameter, CategoricalParameter, ContinuousParameter\n",
        "\n",
        "xgb.set_hyperparameters(objective='binary:logistic',\n",
        "                        num_round=10)\n",
        "hyperparameter_ranges = {\n",
        "    'eta': ContinuousParameter(0, 1),\n",
        "    'min_child_weight': IntegerParameter(1, 10)\n",
        "}"
      ]
    },
    {
      "cell_type": "markdown",
      "metadata": {
        "id": "SL9Tf0KHH2qi"
      },
      "source": [
        "Next, specify the objective metric to tune and its definition.  The definition includes the regular expression (regex) needed to extract that metric from the CloudWatch logs of the training job. \n",
        "\n",
        "The XGBoost algorithm computes nine [metrics](https://docs.aws.amazon.com/sagemaker/latest/dg/xgboost-tuning.html) during training that can be used as objective metrics.\n",
        "\n",
        "In this case, you only need to specify the metric name.  You do not need to provide regex. \n",
        "\n",
        "### Exercise 8\n",
        "\n",
        "Choose one of the metrics as an objective. Choose an objective that will fit a binary classification."
      ]
    },
    {
      "cell_type": "code",
      "execution_count": null,
      "metadata": {
        "id": "3jXVer6QH2qi"
      },
      "outputs": [],
      "source": [
        "# Compete the statement\n",
        "objective_metric_name='validation:error'"
      ]
    },
    {
      "cell_type": "markdown",
      "metadata": {
        "id": "Xhplbyx_H2qj"
      },
      "source": [
        "Now, we'll create a HyperparameterTuner object, to which we pass:\n",
        "\n",
        "* XGBoost estimator\n",
        "* Hyperparameter ranges \n",
        "* Objective metric name\n",
        "* Tunning job configuration\n",
        "\n",
        "### Exercise 9\n",
        "\n",
        "Create the [HyperparameterTuner](https://sagemaker.readthedocs.io/en/latest/tuner.html) object. \n",
        "\n",
        "The mandatory parameters are: \n",
        "\n",
        "* `estimator`\n",
        "* `objective_metric_name`\n",
        "* `hyperparameter_ranges`\n",
        "* `objective_type`\n",
        "* `max_jobs` \n",
        "* `max_parallel_jobs`\n"
      ]
    },
    {
      "cell_type": "code",
      "execution_count": null,
      "metadata": {
        "id": "GK8bpWUkH2qk"
      },
      "outputs": [],
      "source": [
        "# Hyperparameter tunning job\n",
        "from sagemaker.tuner import HyperparameterTuner\n",
        "\n",
        "tuner = HyperparameterTuner(estimator=xgb,\n",
        "                            objective_metric_name=objective_metric_name,\n",
        "                            hyperparameter_ranges=hyperparameter_ranges,\n",
        "                            objective_type='Minimize',\n",
        "                            max_jobs=9,\n",
        "                            max_parallel_jobs=3)"
      ]
    },
    {
      "cell_type": "markdown",
      "metadata": {
        "id": "wtBbRvzMH2qk"
      },
      "source": [
        "#### Build the training model!"
      ]
    },
    {
      "cell_type": "code",
      "execution_count": null,
      "metadata": {
        "id": "y-jtTCIMH2qk",
        "outputId": "c5fd9ea1-8355-4855-cfd2-7b82ec9b501a"
      },
      "outputs": [
        {
          "name": "stdout",
          "output_type": "stream",
          "text": [
            "...............................................................................................................................................................................!\n",
            "!\n"
          ]
        }
      ],
      "source": [
        "tuner.fit({'train': s3_input_train, 'validation': s3_input_validation})\n",
        "tuner.wait()"
      ]
    },
    {
      "cell_type": "markdown",
      "metadata": {
        "id": "ChAyxNugH2qk"
      },
      "source": [
        "After tuning the model using the Hyperparameter tunning job, deploy the new model to the endpoint created previously.\n"
      ]
    },
    {
      "cell_type": "markdown",
      "metadata": {
        "id": "0EfDEkdTH2ql"
      },
      "source": [
        "## Deploy the new trained model\n",
        "\n",
        "Amazon SageMaker includes built-in A/B testing capabilities that help you test your model and experiment with different versions to achieve the best results.  \n",
        "\n",
        "Start by examining the results of the tuning job.\n",
        "\n",
        "To monitor the progress and completion of the hyperparameter tuning job, check the section “Hyperparameter tuning jobs” section of the SageMaker console. \n",
        "\n",
        "This cell checks the status of hyperparameter tuning job, programatically."
      ]
    },
    {
      "cell_type": "code",
      "execution_count": null,
      "metadata": {
        "id": "KwJDNYobH2ql",
        "outputId": "6cb9d436-5b77-4d09-e94d-1016f66db34b"
      },
      "outputs": [
        {
          "name": "stdout",
          "output_type": "stream",
          "text": [
            "9 training jobs have completed\n",
            "\n",
            "Best model found so far:\n",
            "{'CreationTime': datetime.datetime(2021, 12, 22, 12, 10, 40, tzinfo=tzlocal()),\n",
            " 'FinalHyperParameterTuningJobObjectiveMetric': {'MetricName': 'validation:error',\n",
            "                                                 'Value': 0.06005999818444252},\n",
            " 'ObjectiveStatus': 'Succeeded',\n",
            " 'TrainingEndTime': datetime.datetime(2021, 12, 22, 12, 14, 43, tzinfo=tzlocal()),\n",
            " 'TrainingJobArn': 'arn:aws:sagemaker:us-west-2:892033201357:training-job/sagemaker-xgboost-211222-1210-002-9ad5a7b4',\n",
            " 'TrainingJobName': 'sagemaker-xgboost-211222-1210-002-9ad5a7b4',\n",
            " 'TrainingJobStatus': 'Completed',\n",
            " 'TrainingStartTime': datetime.datetime(2021, 12, 22, 12, 13, 26, tzinfo=tzlocal()),\n",
            " 'TunedHyperParameters': {'eta': '0.3188063493499258', 'min_child_weight': '1'}}\n"
          ]
        }
      ],
      "source": [
        "from pprint import pprint\n",
        "sage_client = sess.sagemaker_client\n",
        "tuning_job_name = tuner.latest_tuning_job.job_name\n",
        "\n",
        "# run this cell to check current status of hyperparameter tuning job\n",
        "tuning_job_result = sage_client.describe_hyper_parameter_tuning_job(\n",
        "    HyperParameterTuningJobName=tuning_job_name)\n",
        "\n",
        "status = tuning_job_result['HyperParameterTuningJobStatus']\n",
        "if status != 'Completed':\n",
        "    print(\"The tuning job has not been completed.\")\n",
        "\n",
        "job_count = tuning_job_result['TrainingJobStatusCounters']['Completed']\n",
        "print(\"%d training jobs have completed\\n\" % job_count)\n",
        "\n",
        "if tuning_job_result.get('BestTrainingJob', None):\n",
        "    print(\"Best model found so far:\")\n",
        "    pprint(tuning_job_result['BestTrainingJob'])\n",
        "else:\n",
        "    print(\"No training jobs have reported results yet.\")"
      ]
    },
    {
      "cell_type": "markdown",
      "metadata": {
        "id": "3oghVhL4H2ql"
      },
      "source": [
        "Once the training jobs have completed, deploy the best model to the endpoint."
      ]
    },
    {
      "cell_type": "code",
      "execution_count": null,
      "metadata": {
        "id": "GNLYfsQxH2ql"
      },
      "outputs": [],
      "source": [
        "# Create a SageMaker model from the best model\n",
        "model_name = sess.create_model_from_job(training_job_name=tuner.best_training_job(),\n",
        "                                        role=role)"
      ]
    },
    {
      "cell_type": "markdown",
      "metadata": {
        "id": "D1qs67H0H2ql"
      },
      "source": [
        "From the model, create a new SageMaker endpoint configuration."
      ]
    },
    {
      "cell_type": "code",
      "execution_count": null,
      "metadata": {
        "id": "bX3Aa9T4H2qm",
        "outputId": "14910514-5370-4569-bcfa-3fa25d4d02e3"
      },
      "outputs": [
        {
          "name": "stdout",
          "output_type": "stream",
          "text": [
            "---------------!"
          ]
        }
      ],
      "source": [
        "# Get the current endpoint configuration\n",
        "endpoint = sage_client.describe_endpoint(EndpointName=xgb_predictor.endpoint_name)\n",
        "endpoint_config = sage_client.describe_endpoint_config(\n",
        "    EndpointConfigName=endpoint['EndpointConfigName'])\n",
        "\n",
        "# Change the current deployment weight to 0.5 (we'll move 50% of the traffic to the new model)\n",
        "current_model_config = endpoint_config['ProductionVariants'][0]\n",
        "current_model_config['InitialVariantWeight'] = 0.5\n",
        "current_model_config['VariantName'] = 'XGBoost'\n",
        "Variant = 'TunedXGBoost'\n",
        "\n",
        "tuned_model_config = {'ModelName': model_name,\n",
        "                      'InitialInstanceCount': 1,\n",
        "                      'InstanceType': 'ml.m4.xlarge',\n",
        "                      'VariantName': Variant,\n",
        "                      'InitialVariantWeight': 0.5}\n",
        "\n",
        "# Create the new endpoint configuration\n",
        "sage_client.create_endpoint_config(\n",
        "    EndpointConfigName='AB-Config',\n",
        "    ProductionVariants=[current_model_config,\n",
        "                        tuned_model_config])\n",
        "\n",
        "# Update the endpoint\n",
        "sage_client.update_endpoint(\n",
        "    EndpointName=endpoint['EndpointConfigName'],\n",
        "    EndpointConfigName='AB-Config'\n",
        ")\n",
        "result = sess.wait_for_endpoint(endpoint['EndpointConfigName'])"
      ]
    },
    {
      "cell_type": "markdown",
      "metadata": {
        "id": "I_88tW7AH2qm"
      },
      "source": [
        "In the SageMaker console, you'll be able to see that the endpoint now sends 50 percent of the traffic to the old model and 50 percent of it to the new one.  \n",
        "\n",
        "Create a new crosstab and make sure that everything works as expected. "
      ]
    },
    {
      "cell_type": "code",
      "execution_count": null,
      "metadata": {
        "id": "15zhRhDgH2qm",
        "outputId": "f53cd60e-942f-49ea-eef9-4cfb12d320d8"
      },
      "outputs": [
        {
          "data": {
            "text/html": [
              "<div>\n",
              "<style scoped>\n",
              "    .dataframe tbody tr th:only-of-type {\n",
              "        vertical-align: middle;\n",
              "    }\n",
              "\n",
              "    .dataframe tbody tr th {\n",
              "        vertical-align: top;\n",
              "    }\n",
              "\n",
              "    .dataframe thead th {\n",
              "        text-align: right;\n",
              "    }\n",
              "</style>\n",
              "<table border=\"1\" class=\"dataframe\">\n",
              "  <thead>\n",
              "    <tr style=\"text-align: right;\">\n",
              "      <th>predictions</th>\n",
              "      <th>0.0</th>\n",
              "      <th>1.0</th>\n",
              "    </tr>\n",
              "    <tr>\n",
              "      <th>actual</th>\n",
              "      <th></th>\n",
              "      <th></th>\n",
              "    </tr>\n",
              "  </thead>\n",
              "  <tbody>\n",
              "    <tr>\n",
              "      <th>0</th>\n",
              "      <td>282</td>\n",
              "      <td>4</td>\n",
              "    </tr>\n",
              "    <tr>\n",
              "      <th>1</th>\n",
              "      <td>10</td>\n",
              "      <td>38</td>\n",
              "    </tr>\n",
              "  </tbody>\n",
              "</table>\n",
              "</div>"
            ],
            "text/plain": [
              "predictions  0.0  1.0\n",
              "actual               \n",
              "0            282    4\n",
              "1             10   38"
            ]
          },
          "execution_count": 38,
          "metadata": {},
          "output_type": "execute_result"
        }
      ],
      "source": [
        "def predict(data, rows=500):\n",
        "    split_array = np.array_split(data, int(data.shape[0] / float(rows) + 1))\n",
        "    predictions = ''\n",
        "    for array in split_array:\n",
        "        predictions = ','.join(\n",
        "            [predictions, xgb_predictor.predict(array).decode('utf-8')])\n",
        "\n",
        "    return np.fromstring(predictions[1:], sep=',')\n",
        "\n",
        "predictions = predict(test_data.to_numpy()[:, 1:])\n",
        "\n",
        "pd.crosstab(index=test_data.iloc[:, 0], columns=np.round(\n",
        "    predictions), rownames=['actual'], colnames=['predictions'])"
      ]
    },
    {
      "cell_type": "markdown",
      "metadata": {
        "id": "ZpAJjhBuH2qm"
      },
      "source": [
        "If it worked as expected (no errors), you can send all traffic to the new model."
      ]
    },
    {
      "cell_type": "code",
      "execution_count": null,
      "metadata": {
        "id": "mgWnyfFIH2qn",
        "outputId": "80867355-dd6b-4044-c49d-b0b4447b4d9a"
      },
      "outputs": [
        {
          "name": "stdout",
          "output_type": "stream",
          "text": [
            "---!"
          ]
        }
      ],
      "source": [
        "sage_client.update_endpoint_weights_and_capacities(\n",
        "    EndpointName=endpoint['EndpointConfigName'],\n",
        "    DesiredWeightsAndCapacities=[\n",
        "        {\n",
        "            'VariantName': Variant,\n",
        "            'DesiredWeight': 1\n",
        "        },\n",
        "        {\n",
        "            'VariantName': 'XGBoost',\n",
        "            'DesiredWeight': 0\n",
        "        }\n",
        "    ]\n",
        ")\n",
        "response = sess.wait_for_endpoint(endpoint['EndpointConfigName'])"
      ]
    },
    {
      "cell_type": "markdown",
      "metadata": {
        "id": "j4jmdl3kH2qn"
      },
      "source": [
        "Now, create a new crosstab for the new model."
      ]
    },
    {
      "cell_type": "code",
      "execution_count": null,
      "metadata": {
        "id": "nHO99EROH2qn",
        "outputId": "a581ca5a-0ea6-404e-983d-6d3e459fce41"
      },
      "outputs": [
        {
          "data": {
            "text/html": [
              "<div>\n",
              "<style scoped>\n",
              "    .dataframe tbody tr th:only-of-type {\n",
              "        vertical-align: middle;\n",
              "    }\n",
              "\n",
              "    .dataframe tbody tr th {\n",
              "        vertical-align: top;\n",
              "    }\n",
              "\n",
              "    .dataframe thead th {\n",
              "        text-align: right;\n",
              "    }\n",
              "</style>\n",
              "<table border=\"1\" class=\"dataframe\">\n",
              "  <thead>\n",
              "    <tr style=\"text-align: right;\">\n",
              "      <th>predictions</th>\n",
              "      <th>0.0</th>\n",
              "      <th>1.0</th>\n",
              "    </tr>\n",
              "    <tr>\n",
              "      <th>actual</th>\n",
              "      <th></th>\n",
              "      <th></th>\n",
              "    </tr>\n",
              "  </thead>\n",
              "  <tbody>\n",
              "    <tr>\n",
              "      <th>0</th>\n",
              "      <td>282</td>\n",
              "      <td>4</td>\n",
              "    </tr>\n",
              "    <tr>\n",
              "      <th>1</th>\n",
              "      <td>10</td>\n",
              "      <td>38</td>\n",
              "    </tr>\n",
              "  </tbody>\n",
              "</table>\n",
              "</div>"
            ],
            "text/plain": [
              "predictions  0.0  1.0\n",
              "actual               \n",
              "0            282    4\n",
              "1             10   38"
            ]
          },
          "execution_count": 40,
          "metadata": {},
          "output_type": "execute_result"
        }
      ],
      "source": [
        "def predict(data, rows=500):\n",
        "    split_array = np.array_split(data, int(data.shape[0] / float(rows) + 1))\n",
        "    predictions = ''\n",
        "    for array in split_array:\n",
        "        predictions = ','.join(\n",
        "            [predictions, xgb_predictor.predict(array).decode('utf-8')])\n",
        "\n",
        "    return np.fromstring(predictions[1:], sep=',')\n",
        "\n",
        "predictions = predict(test_data.to_numpy()[:, 1:])\n",
        "\n",
        "pd.crosstab(index=test_data.iloc[:, 0], columns=np.round(\n",
        "    predictions), rownames=['actual'], colnames=['predictions'])"
      ]
    },
    {
      "cell_type": "markdown",
      "metadata": {
        "id": "12UClVidH2qn"
      },
      "source": [
        "## Make the model production-ready\n",
        "\n",
        "###  AWS Auto Scaling"
      ]
    },
    {
      "cell_type": "markdown",
      "metadata": {
        "id": "saz2rUv2H2qn"
      },
      "source": [
        "As your endpoint goes into production, depending on your needs and expected traffic, throughput from a single endpoint might result in a bad experience under high load for users. \n",
        "\n",
        "Under heavy load, an endpoint behaves like a web server. When requests take more time to fulfill (the throughput of the endpoint is decreasing), the endpoint could start issuing errors due to timeouts and regular instance metrics (such as CPU utilization) will reach maximum utilization. \n",
        "\n",
        "In order to mitigate such a situation, you could provision more instances to back the endpoint serving your model, but this will not dynamically adapt to the traffic and load you are receiving. \n",
        "\n",
        "With AWS Auto Scaling for Amazon SageMaker, you don't have to closely monitor inference volume and manually change the endpoint configuration. Instead, configure a scaling policy to be used by AWS Auto Scaling. \n",
        "\n",
        "Auto Scaling adjusts the number of instances up or down in response to actual workloads, determined by using Amazon CloudWatch metrics and target values defined in the policy. \n",
        "\n",
        "Before putting AWS Auto Scaling in place for your last endpoint, first monitor how the endpoint behaves under load to understand which metrics to track. \n",
        "\n",
        "Create two helper functions that will be in charge of load testing the endpoint by sending requests with some sample data. "
      ]
    },
    {
      "cell_type": "code",
      "execution_count": null,
      "metadata": {
        "id": "Jd-hLW4pH2qo"
      },
      "outputs": [],
      "source": [
        "import botocore\n",
        "import concurrent.futures\n",
        "import requests\n",
        "import time\n",
        "\n",
        "NB_CONNECTIONS = 200\n",
        "\n",
        "# Update number of connections in the pool accepted by the sagemaker runtime client\n",
        "client = boto3.client('sagemaker-runtime',\n",
        "                      config=botocore.client.Config(max_pool_connections=NB_CONNECTIONS))\n",
        "sess.sagemaker_runtime_client = client\n",
        "\n",
        "# Send data for prediction to endpoint\n",
        "def send_data():\n",
        "    return xgb_predictor.predict([i for i in range(66)])\n",
        "\n",
        "# Send nb_requests to endpoint nb_repetitions\n",
        "def load_test_endpoint(nb_requests, nb_repetitions):\n",
        "    for _ in range(nb_repetitions):\n",
        "        out = []\n",
        "        with concurrent.futures.ThreadPoolExecutor(max_workers=NB_CONNECTIONS) as executor:\n",
        "            future_submit = (executor.submit(send_data)\n",
        "                             for _ in range(nb_requests))\n",
        "            time1 = time.time()\n",
        "            for future in concurrent.futures.as_completed(future_submit):\n",
        "                try:\n",
        "                    data = future.result()\n",
        "                except Exception as exc:\n",
        "                    data = str(type(exc))\n",
        "                finally:\n",
        "                    out.append(data)\n",
        "\n",
        "                    print(str(len(out)), end=\"\\r\")\n",
        "\n",
        "            time2 = time.time()\n",
        "\n",
        "        # Print time taken for nb_requests\n",
        "        print(f'Took {time2-time1:.2f} s for {nb_requests} requests')"
      ]
    },
    {
      "cell_type": "markdown",
      "metadata": {
        "id": "vTN4Bz9nH2qp"
      },
      "source": [
        "Now use the helper function and send a batch of 200 requests, with 180 repetitions of this batch.  This should take, on average, less than a second.  The total run time will be just under 3 minutes. "
      ]
    },
    {
      "cell_type": "code",
      "execution_count": null,
      "metadata": {
        "scrolled": true,
        "id": "O7i-IXHlH2qq",
        "outputId": "5c60c7f1-1c3f-441f-b7cb-8cb0ec4c2016"
      },
      "outputs": [
        {
          "name": "stdout",
          "output_type": "stream",
          "text": [
            "Took 0.91 s for 200 requests\n",
            "Took 0.48 s for 200 requests\n",
            "Took 0.65 s for 200 requests\n",
            "Took 0.48 s for 200 requests\n",
            "Took 0.46 s for 200 requests\n",
            "Took 0.47 s for 200 requests\n",
            "Took 0.47 s for 200 requests\n",
            "Took 0.48 s for 200 requests\n",
            "Took 0.47 s for 200 requests\n",
            "Took 0.47 s for 200 requests\n",
            "Took 0.46 s for 200 requests\n",
            "Took 0.46 s for 200 requests\n",
            "Took 0.46 s for 200 requests\n",
            "Took 0.47 s for 200 requests\n",
            "Took 0.46 s for 200 requests\n",
            "Took 0.46 s for 200 requests\n",
            "Took 0.47 s for 200 requests\n",
            "Took 0.80 s for 200 requests\n",
            "Took 0.47 s for 200 requests\n",
            "Took 0.59 s for 200 requests\n",
            "Took 0.47 s for 200 requests\n",
            "Took 0.47 s for 200 requests\n",
            "Took 0.96 s for 200 requests\n",
            "Took 0.45 s for 200 requests\n",
            "Took 0.93 s for 200 requests\n",
            "Took 0.90 s for 200 requests\n",
            "Took 0.46 s for 200 requests\n",
            "Took 0.47 s for 200 requests\n",
            "Took 0.46 s for 200 requests\n",
            "Took 0.45 s for 200 requests\n",
            "Took 0.45 s for 200 requests\n",
            "Took 0.47 s for 200 requests\n",
            "Took 0.46 s for 200 requests\n",
            "Took 0.47 s for 200 requests\n",
            "Took 0.47 s for 200 requests\n",
            "Took 0.45 s for 200 requests\n",
            "Took 0.46 s for 200 requests\n",
            "Took 0.46 s for 200 requests\n",
            "Took 0.46 s for 200 requests\n",
            "Took 0.46 s for 200 requests\n",
            "Took 0.50 s for 200 requests\n",
            "Took 0.58 s for 200 requests\n",
            "Took 0.47 s for 200 requests\n",
            "Took 0.46 s for 200 requests\n",
            "Took 0.46 s for 200 requests\n",
            "Took 0.47 s for 200 requests\n",
            "Took 0.45 s for 200 requests\n",
            "Took 0.47 s for 200 requests\n",
            "Took 0.46 s for 200 requests\n",
            "Took 0.47 s for 200 requests\n",
            "Took 0.46 s for 200 requests\n",
            "Took 0.46 s for 200 requests\n",
            "Took 0.46 s for 200 requests\n",
            "Took 0.47 s for 200 requests\n",
            "Took 0.46 s for 200 requests\n",
            "Took 0.47 s for 200 requests\n",
            "Took 0.45 s for 200 requests\n",
            "Took 0.46 s for 200 requests\n",
            "Took 0.45 s for 200 requests\n",
            "Took 0.45 s for 200 requests\n",
            "Took 0.57 s for 200 requests\n",
            "Took 0.46 s for 200 requests\n",
            "Took 0.47 s for 200 requests\n",
            "Took 0.49 s for 200 requests\n",
            "Took 0.46 s for 200 requests\n",
            "Took 0.45 s for 200 requests\n",
            "Took 0.46 s for 200 requests\n",
            "Took 0.47 s for 200 requests\n",
            "Took 0.46 s for 200 requests\n",
            "Took 0.62 s for 200 requests\n",
            "Took 0.46 s for 200 requests\n",
            "Took 0.45 s for 200 requests\n",
            "Took 0.48 s for 200 requests\n",
            "Took 0.45 s for 200 requests\n",
            "Took 0.47 s for 200 requests\n",
            "Took 0.47 s for 200 requests\n",
            "Took 0.59 s for 200 requests\n",
            "Took 0.45 s for 200 requests\n",
            "Took 0.46 s for 200 requests\n",
            "Took 0.45 s for 200 requests\n",
            "Took 0.45 s for 200 requests\n",
            "Took 0.46 s for 200 requests\n",
            "Took 0.46 s for 200 requests\n",
            "Took 0.46 s for 200 requests\n",
            "Took 0.45 s for 200 requests\n",
            "Took 0.46 s for 200 requests\n",
            "Took 0.47 s for 200 requests\n",
            "Took 0.47 s for 200 requests\n",
            "Took 0.47 s for 200 requests\n",
            "Took 0.47 s for 200 requests\n",
            "Took 0.47 s for 200 requests\n",
            "Took 0.46 s for 200 requests\n",
            "Took 0.46 s for 200 requests\n",
            "Took 0.45 s for 200 requests\n",
            "Took 0.48 s for 200 requests\n",
            "Took 0.57 s for 200 requests\n",
            "Took 0.47 s for 200 requests\n",
            "Took 0.45 s for 200 requests\n",
            "Took 0.46 s for 200 requests\n",
            "Took 0.45 s for 200 requests\n",
            "Took 0.45 s for 200 requests\n",
            "Took 0.47 s for 200 requests\n",
            "Took 0.47 s for 200 requests\n",
            "Took 0.47 s for 200 requests\n",
            "Took 0.46 s for 200 requests\n",
            "Took 0.46 s for 200 requests\n",
            "Took 0.46 s for 200 requests\n",
            "Took 0.45 s for 200 requests\n",
            "Took 0.47 s for 200 requests\n",
            "Took 0.45 s for 200 requests\n",
            "Took 0.46 s for 200 requests\n",
            "Took 0.48 s for 200 requests\n",
            "Took 0.45 s for 200 requests\n",
            "Took 0.57 s for 200 requests\n",
            "Took 0.47 s for 200 requests\n",
            "Took 0.46 s for 200 requests\n",
            "Took 0.47 s for 200 requests\n",
            "Took 0.46 s for 200 requests\n",
            "Took 0.45 s for 200 requests\n",
            "Took 0.46 s for 200 requests\n",
            "Took 0.47 s for 200 requests\n",
            "Took 0.45 s for 200 requests\n",
            "Took 0.47 s for 200 requests\n",
            "Took 0.45 s for 200 requests\n",
            "Took 0.46 s for 200 requests\n",
            "Took 0.47 s for 200 requests\n",
            "Took 0.45 s for 200 requests\n",
            "Took 0.46 s for 200 requests\n",
            "Took 0.45 s for 200 requests\n",
            "Took 0.45 s for 200 requests\n",
            "Took 0.51 s for 200 requests\n",
            "Took 0.47 s for 200 requests\n",
            "Took 0.47 s for 200 requests\n",
            "Took 0.59 s for 200 requests\n",
            "Took 0.45 s for 200 requests\n",
            "Took 0.46 s for 200 requests\n",
            "Took 0.45 s for 200 requests\n",
            "Took 0.47 s for 200 requests\n",
            "Took 0.46 s for 200 requests\n",
            "Took 0.47 s for 200 requests\n",
            "Took 0.45 s for 200 requests\n",
            "Took 0.47 s for 200 requests\n",
            "Took 0.46 s for 200 requests\n",
            "Took 0.45 s for 200 requests\n",
            "Took 0.46 s for 200 requests\n",
            "Took 0.46 s for 200 requests\n",
            "Took 0.46 s for 200 requests\n",
            "Took 0.46 s for 200 requests\n",
            "Took 0.45 s for 200 requests\n",
            "Took 0.47 s for 200 requests\n",
            "Took 0.58 s for 200 requests\n",
            "Took 0.47 s for 200 requests\n",
            "Took 0.45 s for 200 requests\n",
            "Took 0.47 s for 200 requests\n",
            "Took 0.47 s for 200 requests\n",
            "Took 0.47 s for 200 requests\n",
            "Took 0.47 s for 200 requests\n",
            "Took 0.46 s for 200 requests\n",
            "Took 0.46 s for 200 requests\n",
            "Took 0.46 s for 200 requests\n",
            "Took 0.45 s for 200 requests\n",
            "Took 0.46 s for 200 requests\n",
            "Took 0.46 s for 200 requests\n",
            "Took 0.45 s for 200 requests\n",
            "Took 0.45 s for 200 requests\n",
            "Took 0.46 s for 200 requests\n",
            "Took 0.45 s for 200 requests\n",
            "Took 0.46 s for 200 requests\n",
            "Took 0.47 s for 200 requests\n",
            "Took 0.58 s for 200 requests\n",
            "Took 0.46 s for 200 requests\n",
            "Took 0.46 s for 200 requests\n",
            "Took 0.46 s for 200 requests\n",
            "Took 0.46 s for 200 requests\n",
            "Took 0.47 s for 200 requests\n",
            "Took 0.47 s for 200 requests\n",
            "Took 0.45 s for 200 requests\n",
            "Took 0.45 s for 200 requests\n",
            "Took 0.48 s for 200 requests\n",
            "Took 0.47 s for 200 requests\n"
          ]
        }
      ],
      "source": [
        "load_test_endpoint(nb_requests=200, nb_repetitions=180)"
      ]
    },
    {
      "cell_type": "markdown",
      "metadata": {
        "id": "tOVMjpMRH2qq"
      },
      "source": [
        "Put your endpoint under load by testing it with 50k requests. \n",
        "\n",
        "Keep it short, with only 1 repetition of the batch of 50k requests. "
      ]
    },
    {
      "cell_type": "code",
      "execution_count": null,
      "metadata": {
        "id": "hy6z8G7OH2qq",
        "outputId": "f1dd08c1-8675-465c-c81a-a58c54b157b1"
      },
      "outputs": [
        {
          "name": "stdout",
          "output_type": "stream",
          "text": [
            "Took 114.69 s for 50000 requests\n"
          ]
        }
      ],
      "source": [
        "load_test_endpoint(nb_requests=50000, nb_repetitions=1)"
      ]
    },
    {
      "cell_type": "markdown",
      "metadata": {
        "id": "typWUl3kH2qq"
      },
      "source": [
        "You now have enough data points for measuring performance of the endpoint and you can display them using CloudWatch Metrics. \n",
        "\n",
        "Explore the different metrics available for your SageMaker endpoint, and make sure you can see metrics generated by the first load test you performed. \n",
        "\n",
        "On the SageMaker console, navigate to your endpoint and check out the links in the monitor section. Alternatively, run the following cell and open the link:"
      ]
    },
    {
      "cell_type": "code",
      "execution_count": null,
      "metadata": {
        "id": "plOBPO5SH2qr",
        "outputId": "844d010f-2b7b-479c-bab7-a65e9910ad98"
      },
      "outputs": [
        {
          "data": {
            "text/markdown": [
              "**Caution**: *Ctrl + click* the link to not loose the current tab with the notebook: [https://us-west-2.console.aws.amazon.com/cloudwatch/home?region=us-west-2#metricsV2:namespace=AWS/SageMaker;dimensions=EndpointName,VariantName;search=sagemaker-xgboost-2021-12-22-11-23-17-148](https://us-west-2.console.aws.amazon.com/cloudwatch/home?region=us-west-2#metricsV2:namespace=AWS/SageMaker;dimensions=EndpointName,VariantName;search=sagemaker-xgboost-2021-12-22-11-23-17-148)"
            ],
            "text/plain": [
              "<IPython.core.display.Markdown object>"
            ]
          },
          "execution_count": 45,
          "metadata": {},
          "output_type": "execute_result"
        }
      ],
      "source": [
        "from IPython.display import Markdown as md\n",
        "\n",
        "link = 'https://' + boto3.Session().region_name + '.console.aws.amazon.com/cloudwatch/home?region=' + boto3.Session().region_name + \\\n",
        "    '#metricsV2:namespace=AWS/SageMaker;dimensions=EndpointName,VariantName;search=' + \\\n",
        "    xgb_predictor.endpoint_name\n",
        "\n",
        "md(\"**Caution**: *Ctrl + click* the link to not loose the current tab with the notebook: [%s](%s)\" % (link, link))"
      ]
    },
    {
      "cell_type": "markdown",
      "metadata": {
        "id": "Hk197RE2H2qr"
      },
      "source": [
        "So that you can closely monitor the performance of your endpoint, create a dashboard in Amazon CloudWatch with some of the metrics that you found above, set a scale of one hour's worth of data, and, if you prefer, set auto-refresh to avoid manually refreshing the dashboard.\n",
        "\n",
        "Alternatively, we have provided a template Amazon CloudWatch dashboard you can automatically deploy using AWS CloudFormation. \n",
        "\n",
        "Download the template by opening `template-cloudwatch.yaml` from the current folder. Then head over to AWS CloudFormation, and select 'Create Stack', and then 'Upload a template to Amazon S3' by selecting the downloaded template.\n",
        "\n",
        "You will need the endpoint and variant name when you deploy it using AWS CloudFormation. Once created, you can look into the result of the deployment for a direct URL to the dashboard. "
      ]
    },
    {
      "cell_type": "code",
      "execution_count": null,
      "metadata": {
        "id": "QczPXBH3H2qr",
        "outputId": "29880e19-d49c-4e12-cf80-07420f3f2733"
      },
      "outputs": [
        {
          "name": "stdout",
          "output_type": "stream",
          "text": [
            "Endpoint name: sagemaker-xgboost-2021-12-22-11-23-17-148\n",
            "Variant name: TunedXGBoost\n"
          ]
        }
      ],
      "source": [
        "variant_name = Variant\n",
        "\n",
        "print(\"Endpoint name: \" + xgb_predictor.endpoint_name)\n",
        "print(\"Variant name: \" + variant_name)"
      ]
    },
    {
      "cell_type": "markdown",
      "metadata": {
        "id": "H_WRTsHWH2qr"
      },
      "source": [
        "Notice that most metrics went up with the final bigger batch of requests. Let's say that this endpoint is serving a large number of requests on a regular basis to determine whether customers are likely to churn, and we want to define a reasonable value for the desired throughput to sustain. We could measure this in Requests Per Minute (or RPS), and define that the endpoint needs to sustain up to 10,000 requests to provide answers to all customers before they experience delays or even errors.\n",
        "\n",
        "Below we have defined a simple formula to compute the throughput value used to auto scale following the recommendations in the [load testing guide](https://docs.aws.amazon.com/sagemaker/latest/dg/endpoint-scaling-loadtest.html). "
      ]
    },
    {
      "cell_type": "code",
      "execution_count": null,
      "metadata": {
        "id": "0anu7XeBH2qs",
        "outputId": "03f5d908-8b6c-4a1b-b1f7-42640f17953b"
      },
      "outputs": [
        {
          "name": "stdout",
          "output_type": "stream",
          "text": [
            "5000.0\n"
          ]
        }
      ],
      "source": [
        "MAX_RPS = 10000 \n",
        "SAFETY_FACTOR = .5\n",
        "\n",
        "INVOCATIONS_PER_INSTANCE_THRESHOLD = (MAX_RPS * SAFETY_FACTOR)\n",
        "print(INVOCATIONS_PER_INSTANCE_THRESHOLD)"
      ]
    },
    {
      "cell_type": "markdown",
      "metadata": {
        "id": "b4zfZD4VH2qs"
      },
      "source": [
        "Note the safety factor, which is important as you need to account for situations where the endpoint might behave differently than when the load test was performed, and external factors out of your own reach. \n",
        "\n",
        "The result of this formula will be used as the threshold for the number of invocations per instance that when reached, will trigger the endpoint to auto scale and add an additional instance to back the endpoint. \n",
        "\n",
        "To achieve this objective, register a scalable target with AWS Auto Scaling to define what to auto-scale (e.g. the number of instances), as well as the minimum and maximum capacity.  \n",
        "\n",
        "We recommend setting the minimum and maximum capacity to 1 and 3 respectively.\n",
        "\n",
        "### Exercise 10\n",
        "\n",
        "Fill out the details of this first step to set up AWS Auto Scaling. You can use the `register_scalable_target` [API method](https://boto3.amazonaws.com/v1/documentation/api/latest/reference/services/application-autoscaling.html#ApplicationAutoScaling.Client.register_scalable_target) of the Auto Scaling API, and the pre-computed `resource_name` for the `ResourceId`. "
      ]
    },
    {
      "cell_type": "code",
      "execution_count": null,
      "metadata": {
        "id": "RPuP36P7H2qs"
      },
      "outputs": [],
      "source": [
        "autoscaling_client = boto3.client('application-autoscaling')\n",
        "resource_name = 'endpoint/' + xgb_predictor.endpoint_name + '/variant/' + variant_name\n",
        "\n",
        "response = autoscaling_client.register_scalable_target(\n",
        "    ServiceNamespace='sagemaker',\n",
        "    ResourceId=resource_name,\n",
        "    ScalableDimension='sagemaker:variant:DesiredInstanceCount',\n",
        "    MinCapacity=1,\n",
        "    MaxCapacity=3\n",
        ")"
      ]
    },
    {
      "cell_type": "markdown",
      "metadata": {
        "id": "pFx-r5z3H2qs"
      },
      "source": [
        "Now that the endpoint's number of instances is registered as a scalable target, it's available to automatically scale up and down. \n",
        "\n",
        "To enable this behavior, create a scaling policy that defines what metrics AWS Auto Scaling needs to track and against what value. \n",
        "\n",
        "In this case, the endpoint should scale when the threshold we defined has been reached. \n",
        "\n",
        "### Exercise 11\n",
        "\n",
        "Fill out the following code with the the metric and value you want to track. \n",
        "\n",
        "You can read more about the `put_scaling_policy` [API method](https://boto3.amazonaws.com/v1/documentation/api/latest/reference/services/application-autoscaling.html#ApplicationAutoScaling.Client.put_scaling_policy) to understand how to complete the values. "
      ]
    },
    {
      "cell_type": "code",
      "execution_count": null,
      "metadata": {
        "id": "SC8OLKVQH2qs"
      },
      "outputs": [],
      "source": [
        "response = autoscaling_client.put_scaling_policy(\n",
        "    PolicyName='xgb-endpoint-throughput-threshold',\n",
        "    ServiceNamespace='sagemaker',\n",
        "    ResourceId=resource_name,\n",
        "    ScalableDimension='sagemaker:variant:DesiredInstanceCount',\n",
        "    PolicyType='TargetTrackingScaling',\n",
        "    TargetTrackingScalingPolicyConfiguration={\n",
        "        'TargetValue': INVOCATIONS_PER_INSTANCE_THRESHOLD,\n",
        "        'PredefinedMetricSpecification': {\n",
        "            'PredefinedMetricType': 'SageMakerVariantInvocationsPerInstance'\n",
        "        },\n",
        "        'ScaleOutCooldown': 200,\n",
        "        'ScaleInCooldown': 200,\n",
        "        'DisableScaleIn': False\n",
        "    }\n",
        ")"
      ]
    },
    {
      "cell_type": "markdown",
      "metadata": {
        "id": "dl4NzAK1H2qt"
      },
      "source": [
        "Put the endpoint under heavy load again and watch AWS Auto Scaling activate.  \n",
        "\n",
        "Send it another batch of 50k requests and 10 repetitions."
      ]
    },
    {
      "cell_type": "code",
      "execution_count": null,
      "metadata": {
        "id": "6wfT9Qp-H2qt",
        "outputId": "3d6e1a9e-3c72-431b-d594-e527e0ecaccd"
      },
      "outputs": [
        {
          "name": "stdout",
          "output_type": "stream",
          "text": [
            "Took 115.48 s for 50000 requests\n",
            "Took 116.33 s for 50000 requests\n",
            "Took 117.32 s for 50000 requests\n",
            "Took 114.16 s for 50000 requests\n",
            "Took 115.01 s for 50000 requests\n",
            "Took 113.87 s for 50000 requests\n",
            "Took 115.80 s for 50000 requests\n",
            "Took 113.87 s for 50000 requests\n",
            "Took 117.21 s for 50000 requests\n",
            "Took 113.70 s for 50000 requests\n"
          ]
        }
      ],
      "source": [
        "load_test_endpoint(nb_requests=50000, nb_repetitions=10)"
      ]
    },
    {
      "cell_type": "markdown",
      "metadata": {
        "id": "OOU0svPOH2qt"
      },
      "source": [
        "By looking at the dashboard created earlier, can you see when auto scaling kicked in? \n",
        "\n",
        "The number of invocations per instance should have dropped below the target, and the invocations graph will now display 2 separate lines for the Invocations and InvocationsPerInstance. \n",
        "\n",
        "This clearly indicates that the model is being served from multiple instances and decreases the load.\n",
        "\n",
        "If you let the above cell continue to run for longer, you might witness the endpoint scaling in. It will go back to a single instance. \n",
        "\n",
        "With multiple instances behind an endpoint, you are maintaining a throughput lower on average than the target we set. AWS Auto Scaling is set up to track 5000 requests per minute. An alarm will trigger an auto-scaling policy if too many data points are under 5000, which can be the case here. \n",
        "\n",
        "In a production setting, you would use a more robust load testing tool to perform a true load test and determine the exact throughput (or other metric) that your endpoint can sustain under heavy load until it starts responding with errors. \n",
        "\n",
        "For more information on the topic, a [blog post](https://aws.amazon.com/blogs/machine-learning/load-test-and-optimize-an-amazon-sagemaker-endpoint-using-automatic-scaling/) is available.  "
      ]
    },
    {
      "cell_type": "markdown",
      "metadata": {
        "id": "vsNF4REmH2qt"
      },
      "source": [
        "### Relative cost of errors\n",
        "\n",
        "#### Binary classification cutoff\n",
        "\n",
        "Let us return now to model evaluation and chosing a cutoff value to turn the model prediction into a binary decision. \n",
        "\n",
        "Dealing with a churning customer is more expensive than working to retain a customer who *might* churn&mdash;so consider adjusting this cutoff to minimize costly false negatives.  This may increase the number of false positives, but it should also increase the number of true positives while reducing the number of false negatives.\n",
        "\n",
        "To get a rough intuition here, look at the continuous values of your predictions."
      ]
    },
    {
      "cell_type": "code",
      "execution_count": null,
      "metadata": {
        "id": "Y56Jfx4KH2qu",
        "outputId": "1b1c8855-0898-4635-ee88-25807be87723"
      },
      "outputs": [
        {
          "data": {
            "image/png": "[encoded data removed]",
            "text/plain": [
              "<Figure size 432x288 with 1 Axes>"
            ]
          },
          "metadata": {
            "needs_background": "light"
          },
          "output_type": "display_data"
        }
      ],
      "source": [
        "plt.hist(predictions)\n",
        "plt.show()"
      ]
    },
    {
      "cell_type": "markdown",
      "metadata": {
        "id": "-c2sIP-_H2qu"
      },
      "source": [
        "The continuous valued predictions from the model tend to skew toward 0 or 1, but there is sufficient mass between 0.1 and 0.9. Adjusting the cutoff should shift a number of customer predictions.  \n",
        "\n",
        "Compare the original confusion matrix with a cutoff of 0.5 to one with a cutoff of 0.3."
      ]
    },
    {
      "cell_type": "code",
      "execution_count": null,
      "metadata": {
        "id": "6mmuGpUFH2qu",
        "outputId": "d60bc5a5-39e4-4905-8430-b55a40c87cf8"
      },
      "outputs": [
        {
          "data": {
            "text/html": [
              "<div>\n",
              "<style scoped>\n",
              "    .dataframe tbody tr th:only-of-type {\n",
              "        vertical-align: middle;\n",
              "    }\n",
              "\n",
              "    .dataframe tbody tr th {\n",
              "        vertical-align: top;\n",
              "    }\n",
              "\n",
              "    .dataframe thead th {\n",
              "        text-align: right;\n",
              "    }\n",
              "</style>\n",
              "<table border=\"1\" class=\"dataframe\">\n",
              "  <thead>\n",
              "    <tr style=\"text-align: right;\">\n",
              "      <th>predictions</th>\n",
              "      <th>0.0</th>\n",
              "      <th>1.0</th>\n",
              "    </tr>\n",
              "    <tr>\n",
              "      <th>actual</th>\n",
              "      <th></th>\n",
              "      <th></th>\n",
              "    </tr>\n",
              "  </thead>\n",
              "  <tbody>\n",
              "    <tr>\n",
              "      <th>0</th>\n",
              "      <td>282</td>\n",
              "      <td>4</td>\n",
              "    </tr>\n",
              "    <tr>\n",
              "      <th>1</th>\n",
              "      <td>10</td>\n",
              "      <td>38</td>\n",
              "    </tr>\n",
              "  </tbody>\n",
              "</table>\n",
              "</div>"
            ],
            "text/plain": [
              "predictions  0.0  1.0\n",
              "actual               \n",
              "0            282    4\n",
              "1             10   38"
            ]
          },
          "metadata": {},
          "output_type": "display_data"
        },
        {
          "data": {
            "text/html": [
              "<div>\n",
              "<style scoped>\n",
              "    .dataframe tbody tr th:only-of-type {\n",
              "        vertical-align: middle;\n",
              "    }\n",
              "\n",
              "    .dataframe tbody tr th {\n",
              "        vertical-align: top;\n",
              "    }\n",
              "\n",
              "    .dataframe thead th {\n",
              "        text-align: right;\n",
              "    }\n",
              "</style>\n",
              "<table border=\"1\" class=\"dataframe\">\n",
              "  <thead>\n",
              "    <tr style=\"text-align: right;\">\n",
              "      <th>predictions</th>\n",
              "      <th>0</th>\n",
              "      <th>1</th>\n",
              "    </tr>\n",
              "    <tr>\n",
              "      <th>actual</th>\n",
              "      <th></th>\n",
              "      <th></th>\n",
              "    </tr>\n",
              "  </thead>\n",
              "  <tbody>\n",
              "    <tr>\n",
              "      <th>0</th>\n",
              "      <td>281</td>\n",
              "      <td>5</td>\n",
              "    </tr>\n",
              "    <tr>\n",
              "      <th>1</th>\n",
              "      <td>8</td>\n",
              "      <td>40</td>\n",
              "    </tr>\n",
              "  </tbody>\n",
              "</table>\n",
              "</div>"
            ],
            "text/plain": [
              "predictions    0   1\n",
              "actual              \n",
              "0            281   5\n",
              "1              8  40"
            ]
          },
          "metadata": {},
          "output_type": "display_data"
        }
      ],
      "source": [
        "display(pd.crosstab(index=test_data.iloc[:, 0], columns=np.round(\n",
        "    predictions), rownames=['actual'], colnames=['predictions']))\n",
        "display(pd.crosstab(index=test_data.iloc[:, 0], columns=np.where(\n",
        "    predictions > 0.3, 1, 0), rownames=['actual'], colnames=['predictions']))"
      ]
    },
    {
      "cell_type": "markdown",
      "metadata": {
        "id": "i_CbwNJpH2qu"
      },
      "source": [
        "We can see that changing the cutoff from 0.5 to 0.3 results in two fewer true negatives, seven more true positives, two additional false positives, and seven fewer false negatives.  \n",
        "\n",
        "The numbers may look small, but that's 5 percent of customers, overall, who are shifting because of a change to the cutoff.  \n",
        "\n",
        "Was this the right decision?  \n",
        "\n",
        "You may end up retaining seven more customers, but you also unnecessarily incentivized two more customers who would have stayed without those incentives.  \n",
        "\n",
        "Determining optimal cutoffs is a key step in properly applying machine learning in a real-world setting."
      ]
    },
    {
      "cell_type": "markdown",
      "metadata": {
        "id": "0VfUgRlVH2qv"
      },
      "source": [
        "#### Normalizing the output\n",
        "\n",
        "Now, let's define a helper function that, in addition to computing the above confusion matrix, also \"normalizes\" it.  \n",
        "\n",
        "Instead of showing the absolute counts, you can now see percentages."
      ]
    },
    {
      "cell_type": "code",
      "execution_count": null,
      "metadata": {
        "id": "szcddzClH2qv",
        "outputId": "d00939be-fe77-48b9-98e4-cd811bb14b59"
      },
      "outputs": [
        {
          "data": {
            "text/html": [
              "<div>\n",
              "<style scoped>\n",
              "    .dataframe tbody tr th:only-of-type {\n",
              "        vertical-align: middle;\n",
              "    }\n",
              "\n",
              "    .dataframe tbody tr th {\n",
              "        vertical-align: top;\n",
              "    }\n",
              "\n",
              "    .dataframe thead th {\n",
              "        text-align: right;\n",
              "    }\n",
              "</style>\n",
              "<table border=\"1\" class=\"dataframe\">\n",
              "  <thead>\n",
              "    <tr style=\"text-align: right;\">\n",
              "      <th>predictions</th>\n",
              "      <th>0</th>\n",
              "      <th>1</th>\n",
              "    </tr>\n",
              "    <tr>\n",
              "      <th>actual</th>\n",
              "      <th></th>\n",
              "      <th></th>\n",
              "    </tr>\n",
              "  </thead>\n",
              "  <tbody>\n",
              "    <tr>\n",
              "      <th>0</th>\n",
              "      <td>0.844311</td>\n",
              "      <td>0.011976</td>\n",
              "    </tr>\n",
              "    <tr>\n",
              "      <th>1</th>\n",
              "      <td>0.029940</td>\n",
              "      <td>0.113772</td>\n",
              "    </tr>\n",
              "  </tbody>\n",
              "</table>\n",
              "</div>"
            ],
            "text/plain": [
              "predictions         0         1\n",
              "actual                         \n",
              "0            0.844311  0.011976\n",
              "1            0.029940  0.113772"
            ]
          },
          "execution_count": 53,
          "metadata": {},
          "output_type": "execute_result"
        }
      ],
      "source": [
        "def confusion_matrix(test_data, predictions, cutoff):\n",
        "    conf_matrix = pd.crosstab(index=np.append(test_data.iloc[:, 0], [0,1]), columns=np.append(np.where(\n",
        "        predictions > cutoff, 1, 0), [0,1]), rownames=['actual'], colnames=['predictions'])\n",
        "    conf_matrix.iat[0,0]-=1\n",
        "    conf_matrix.iat[1,1]-=1\n",
        "    conf_matrix_normalized = conf_matrix/conf_matrix.values.sum()\n",
        "    return conf_matrix_normalized\n",
        "\n",
        "confusion_matrix(test_data, predictions, 0.5)"
      ]
    },
    {
      "cell_type": "markdown",
      "metadata": {
        "id": "WOmdLyDUH2qv"
      },
      "source": [
        "#### Taking relative cost of errors into account\n",
        "\n",
        "Any practical binary classification problem is likely to produce a similarly sensitive cutoff. That by itself isn’t a problem. After all, if the scores for two classes are really easy to separate, the problem probably isn’t very hard to begin with. You might even be able to solve it with simple rules instead of ML.\n",
        "\n",
        "More important, if you put an ML model into production, *you will have to pay for false postiives and false negatives.*\n",
        "\n",
        "Consider similar costs associated with correct predictions of true positives and true negatives.  The choice of the cutoff affects all four of these statistics. Be mindful of the relative costs to the business for each of these four outcomes per prediction.\n",
        "\n",
        "#### Assigning costs\n",
        "\n",
        "The costs for a mobile phone service provider's churn depend on the specific action that the business takes.\n",
        "\n",
        "Let's make some assumptions here.\n",
        "\n",
        "First, assign the true negatives the cost of \\$0. Your model essentially correctly identified a happy customer in this case, and you don’t need to do anything.\n",
        "\n",
        "False negatives are the most problematic, because they incorrectly predict that a churning customer will stay. You lose the customer and will have to pay all the costs of acquiring a replacement customer. \n",
        "\n",
        "These costs include:\n",
        "\n",
        "* Foregone revenue\n",
        "* Advertising costs\n",
        "* Administrative costs\n",
        "* Point of sale costs\n",
        "* Phone hardware subsidies\n",
        "\n",
        "A quick search on the Internet reveals that such costs typically run in the hundreds of dollars.  So, for the purposes of this example, let's assume \\$500. This is the cost of false negatives.\n",
        "\n",
        "Finally, for customers that your model identifies as churning, let's assume a retention incentive in the amount of \n",
        "\\\\$100. If my provider offered me such a concession, I’d certainly think twice before leaving. This is the cost of both true positive and false positive outcomes. \n",
        "\n",
        "In the case of false positives (the customer is happy, but the model mistakenly predicted churn), we will “waste” the \\\\$100 concession. We probably could have spent that \\\\$100 more effectively, but it's possible that we increased the loyalty of an already loyal customer, so that’s not so bad."
      ]
    },
    {
      "cell_type": "markdown",
      "metadata": {
        "id": "pJVSR2ELH2qv"
      },
      "source": [
        "#### Finding the optimal cutoff\n",
        "\n",
        "It’s clear that false negatives are substantially more costly than false positives. Instead of optimizing for error based on the number of customers, we should be minimizing a cost function that looks like this:\n",
        "\n",
        "```txt\n",
        "$500 * FN(C) + $0 * TN(C) + $100 * FP(C) + $100 * TP(C)\n",
        "```\n",
        "\n",
        "FN(C) means that the false negative percentage is a function of the cutoff, C, and similar for TN, FP, and TP.  You need to find the cutoff, C, where the result of the expression is smallest.\n",
        "\n",
        "A straightforward way to do this, is to simply run a simulation over a large number of possible cutoffs.  \n",
        "\n",
        "Below, we test 100 possible values in the for loop."
      ]
    },
    {
      "cell_type": "code",
      "execution_count": null,
      "metadata": {
        "id": "sAYm6qDLH2qw",
        "outputId": "f8b5b41a-ec81-4145-e5d7-15867dd4c5f2"
      },
      "outputs": [
        {
          "data": {
            "image/png": "[encoded data removed]",
            "text/plain": [
              "<Figure size 432x288 with 1 Axes>"
            ]
          },
          "metadata": {
            "needs_background": "light"
          },
          "output_type": "display_data"
        },
        {
          "name": "stdout",
          "output_type": "stream",
          "text": [
            "Cost is minimized near a cutoff of: 0.37 for a cost of: 25.149700598802397\n"
          ]
        }
      ],
      "source": [
        "COST_OF_ERRORS = np.array([[0, 100], [500, 100]])\n",
        "\n",
        "cutoffs = np.arange(0.01, .99, 0.01)\n",
        "costs = []\n",
        "for c in cutoffs:\n",
        "    cost = (COST_OF_ERRORS * confusion_matrix(test_data,\n",
        "                                              predictions, c)).values.sum()\n",
        "    costs.append(cost)\n",
        "\n",
        "costs = np.array(costs)\n",
        "plt.plot(cutoffs, costs)\n",
        "plt.show()\n",
        "print('Cost is minimized near a cutoff of:',\n",
        "      cutoffs[np.argmin(costs)], 'for a cost of:', np.min(costs))"
      ]
    },
    {
      "cell_type": "markdown",
      "metadata": {
        "id": "POgkaANgH2qw"
      },
      "source": [
        "The above chart shows that when you set a threshold that's too low, your costs skyrocket because all customers are given a retention incentive.\n",
        "\n",
        "Meanwhile, setting the threshold too high results in too many lost customers, which is, ultimately, nearly as costly.\n",
        "\n",
        "The overall cost can be minimized to \\$24.55 by setting the cutoff to 0.29.\n",
        "\n",
        "How does this compare not using an ML model at all?  That is, not giving any incentives and losing all customers that would churn.\n",
        "\n",
        "Assume that the corresponding confusion matrix looks like this:"
      ]
    },
    {
      "cell_type": "code",
      "execution_count": null,
      "metadata": {
        "id": "WVByp4hXH2qw",
        "outputId": "911e7eae-4d97-424c-e39d-b9b8746dbd9d"
      },
      "outputs": [
        {
          "data": {
            "text/plain": [
              "72.457"
            ]
          },
          "metadata": {},
          "output_type": "display_data"
        }
      ],
      "source": [
        "no_ml_confusion_matrix = np.array([[0.855086, 0], [1-0.855086, 0]])\n",
        "\n",
        "display((COST_OF_ERRORS * no_ml_confusion_matrix).sum())"
      ]
    },
    {
      "cell_type": "markdown",
      "metadata": {
        "id": "eofihRdTH2qx"
      },
      "source": [
        "The cost per customer of not using the ML model and while maintaining the same pool of customers is substatially higher: $\\$$72.46 versus $\\$$24.55\n"
      ]
    },
    {
      "cell_type": "markdown",
      "metadata": {
        "id": "MJ9CrRQDH2qx"
      },
      "source": [
        "## Extensions\n",
        "\n",
        "This notebook showed you how to build a model that predicts whether a customer is likely to churn, and then how to optimally set a threshold that accounts for the cost of true positives, false positives, and false negatives.  \n",
        "\n",
        "There are several ways to extend it including:\n",
        "\n",
        "* Some customers who receive retention incentives will still churn.  Including a probability of churning despite receiving an incentive in your cost function would provide a better ROI on our retention programs.\n",
        "* Customers who switch to a lower-priced plan or who deactivate a paid feature represent different kinds of churn that could be modeled separately.\n",
        "* Modeling the evolution of customer behavior. If usage is dropping and the number of calls placed to Customer Service is increasing, you are more likely to experience churn then if the trend is the opposite. A customer profile should incorporate behavior trends.\n",
        "* Actual training data and monetary cost assignments could be more complex.\n",
        "* Multiple models for each type of churn could be needed.\n",
        "\n",
        "Regardless of additional complexity, similar principles described in this notebook likely apply."
      ]
    },
    {
      "cell_type": "markdown",
      "metadata": {
        "id": "ilp18wMJH2qx"
      },
      "source": [
        "### Clean-up\n",
        "\n",
        "If you're done with this notebook, please run the cell below to remove the hosted endpoint and avoid any charges from any stray instances being left on."
      ]
    },
    {
      "cell_type": "code",
      "execution_count": null,
      "metadata": {
        "id": "bbo36xfKH2qx"
      },
      "outputs": [],
      "source": []
    },
    {
      "cell_type": "code",
      "execution_count": null,
      "metadata": {
        "id": "-4Bv4VXUH2qx"
      },
      "outputs": [],
      "source": [
        "sagemaker.Session().delete_endpoint(xgb_predictor.endpoint_name)"
      ]
    }
  ],
  "metadata": {
    "kernelspec": {
      "display_name": "conda_python3",
      "language": "python",
      "name": "conda_python3"
    },
    "language_info": {
      "codemirror_mode": {
        "name": "ipython",
        "version": 3
      },
      "file_extension": ".py",
      "mimetype": "text/x-python",
      "name": "python",
      "nbconvert_exporter": "python",
      "pygments_lexer": "ipython3",
      "version": "3.6.13"
    },
    "notice": "Copyright 2017 Amazon.com, Inc. or its affiliates. All Rights Reserved.  Licensed under the Apache License, Version 2.0 (the \"License\"). You may not use this file except in compliance with the License. A copy of the License is located at http://aws.amazon.com/apache2.0/ or in the \"license\" file accompanying this file. This file is distributed on an \"AS IS\" BASIS, WITHOUT WARRANTIES OR CONDITIONS OF ANY KIND, either express or implied. See the License for the specific language governing permissions and limitations under the License.",
    "colab": {
      "provenance": [],
      "include_colab_link": true
    }
  },
  "nbformat": 4,
  "nbformat_minor": 0
}